{
 "cells": [
  {
   "cell_type": "code",
   "execution_count": 1,
   "metadata": {},
   "outputs": [
    {
     "name": "stdout",
     "output_type": "stream",
     "text": [
      "1\n"
     ]
    }
   ],
   "source": [
    "import boto3\n",
    "import io\n",
    "\n",
    "S3_BUCKET_NAME = \"mlve-v1\"\n",
    "\n",
    "def download_from_s3(url, resource_type=\"image\"):\n",
    "    s3 = boto3.resource('s3', region_name=\"us-east-2\")\n",
    "    bucket = s3.Bucket(S3_BUCKET_NAME)\n",
    "    s3_path = url.split(\".com/\")[1]\n",
    "    item = bucket.Object(s3_path)\n",
    "    if resource_type == \"image\":\n",
    "        file_stream = io.BytesIO()\n",
    "        item.download_fileobj(file_stream)\n",
    "        img = Image.open(file_stream)\n",
    "        return img\n",
    "    else:\n",
    "        return item"
   ]
  },
  {
   "cell_type": "code",
   "execution_count": 52,
   "metadata": {},
   "outputs": [],
   "source": [
    "import numpy as np\n",
    "import matplotlib.pyplot as plt\n",
    "\n",
    "def points_in_circle(radius, x0=0, y0=0):\n",
    "    \"\"\"\n",
    "    returns points in a circle with a given radius, centered at x0, y0\n",
    "    \"\"\"\n",
    "    xs = np.arange(x0 - radius - 1, x0 + radius + 1, dtype=int)\n",
    "    ys = np.arange(y0 - radius - 1, y0 + radius + 1, dtype=int)\n",
    "    x, y = np.where((xs[:,np.newaxis] - x0)**2 + (ys - y0)**2 <= radius**2)\n",
    "    for x, y in zip(xs[x], ys[y]):\n",
    "        yield x, y\n",
    "\n",
    "def check_overlap(point, border_dist, mask, overlap_threshold=0):\n",
    "    \"\"\"\n",
    "    Check if a point is too close to the image border or if the probe overlaps too much \n",
    "    with the wrong object\n",
    "    \"\"\"\n",
    "    width = mask.shape[0]\n",
    "    radius = 10\n",
    "\n",
    "    mask_val = mask[point[1], point[0]]\n",
    "    overlaps = 0\n",
    "\n",
    "    for x_t, y_t in points_in_circle(radius=radius, x0=point[0], y0=point[1]):\n",
    "        if x_t > (width - border_dist) or y_t > (width - border_dist) \\\n",
    "                or x_t < border_dist or y_t < border_dist:\n",
    "            return True\n",
    "        \n",
    "        if mask[y_t, x_t] != mask_val:\n",
    "            overlaps += 1\n",
    "            print(overlaps)\n",
    "            if overlaps > overlap_threshold:\n",
    "                return True \n",
    "\n",
    "    return False\n"
   ]
  },
  {
   "cell_type": "code",
   "execution_count": 55,
   "metadata": {},
   "outputs": [
    {
     "name": "stdout",
     "output_type": "stream",
     "text": [
      "2.0\n"
     ]
    },
    {
     "data": {
      "text/plain": [
       "<matplotlib.image.AxesImage at 0x2b71c31d75b0>"
      ]
     },
     "execution_count": 55,
     "metadata": {},
     "output_type": "execute_result"
    },
    {
     "data": {
      "image/png": "[encoded data removed]",
      "text/plain": [
       "<Figure size 432x288 with 1 Axes>"
      ]
     },
     "metadata": {
      "needs_background": "light"
     },
     "output_type": "display_data"
    }
   ],
   "source": [
    "mask = np.zeros((512, 512))\n",
    "mask[100:300, 275:375] = 1\n",
    "\n",
    "x, y = 275, 260\n",
    "\n",
    "radius = 12\n",
    "points = np.array([(x, y) for (x, y) in points_in_circle(radius, x0=x, y0=y)])\n",
    "\n",
    "for p in points:\n",
    "    mask[p[1], p[0]] = 2\n",
    "\n",
    "overlap = check_overlap((x, y), radius, mask)\n",
    "\n",
    "plt.title(\"Overlap? \" + str(overlap))\n",
    "plt.imshow(mask)"
   ]
  },
  {
   "cell_type": "code",
   "execution_count": null,
   "metadata": {},
   "outputs": [],
   "source": []
  }
 ],
 "metadata": {
  "kernelspec": {
   "display_name": "Python 3.9.5 ('base')",
   "language": "python",
   "name": "python3"
  },
  "language_info": {
   "codemirror_mode": {
    "name": "ipython",
    "version": 3
   },
   "file_extension": ".py",
   "mimetype": "text/x-python",
   "name": "python",
   "nbconvert_exporter": "python",
   "pygments_lexer": "ipython3",
   "version": "3.9.5"
  },
  "orig_nbformat": 4,
  "vscode": {
   "interpreter": {
    "hash": "f760d6a538641d6d76dda0ebffd459ee099ddb14ff5cf9babf8f3984fcbab3cc"
   }
  }
 },
 "nbformat": 4,
 "nbformat_minor": 2
}
