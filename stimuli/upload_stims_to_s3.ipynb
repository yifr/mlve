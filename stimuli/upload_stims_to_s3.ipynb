{
 "cells": [
  {
   "cell_type": "markdown",
   "metadata": {},
   "source": [
    "# Upload tower stimuli to s3"
   ]
  },
  {
   "cell_type": "code",
   "execution_count": 35,
   "metadata": {},
   "outputs": [],
   "source": [
    "#Which experiment? bucket_name is the name of the experiment and will be name of the databases both on mongoDB and S3\n",
    "bucket_name = 'gestalt-static-images' #containment\n",
    "stim_version = 'Image'"
   ]
  },
  {
   "cell_type": "code",
   "execution_count": 36,
   "metadata": {},
   "outputs": [],
   "source": [
    "import os\n",
    "from glob import glob\n",
    "import boto3\n",
    "import botocore\n",
    "from IPython.display import clear_output\n",
    "import json\n",
    "import pandas as pd\n",
    "from PIL import Image"
   ]
  },
  {
   "cell_type": "code",
   "execution_count": 37,
   "metadata": {},
   "outputs": [],
   "source": [
    "def list_files(paths, ext='png'):\n",
    "    \"\"\"Pass list of folders if there are stimuli in multiple folders. \n",
    "    Make sure that the containing folder is informative, as the rest of the path is ignored in naming. \n",
    "    Also returns filenames as uploaded to S3\"\"\"\n",
    "    if type(paths) is not list:\n",
    "        paths = [paths]\n",
    "    results = []\n",
    "    names = []\n",
    "    for path in paths:\n",
    "        results += [y for x in os.walk(path) for y in glob(os.path.join(x[0], '*.%s' % ext))]\n",
    "        names += [os.path.split(y)[1] for x in os.walk(path) for y in glob(os.path.join(x[0], '*.%s' % ext))]\n",
    "    return results,names"
   ]
  },
  {
   "cell_type": "code",
   "execution_count": 38,
   "metadata": {},
   "outputs": [],
   "source": [
    "## helper to speed things up by not uploading images if they already exist, can be overriden \n",
    "def check_exists(s3, bucket_name, stim_name):\n",
    "    try:\n",
    "        s3.Object(bucket_name,stim_name).load()    \n",
    "        return True\n",
    "    except botocore.exceptions.ClientError as e:    \n",
    "        if (e.response['Error']['Code'] == \"404\"):\n",
    "            print('The object does not exist.')\n",
    "            return False\n",
    "        else:\n",
    "            print('Something else has gone wrong with {}'.format(stim_name))"
   ]
  },
  {
   "cell_type": "markdown",
   "metadata": {},
   "source": [
    "Pass list of folders if there are stimuli in multiple folders. Make sure that the containing folder is informative, as the rest of the path is ignored in naming."
   ]
  },
  {
   "cell_type": "code",
   "execution_count": 41,
   "metadata": {},
   "outputs": [
    {
     "name": "stdout",
     "output_type": "stream",
     "text": [
      "We have 64 stimuli to upload.\n"
     ]
    }
   ],
   "source": [
    "## set up paths, etc.\n",
    "# paths_to_stim = ['./example'] ## provide a list of full paths here.\n",
    "paths_to_stim = [\n",
    "    \n",
    "    # tower silhouettes\n",
    "    \"/Users/yoni/Projects/CommonFate/scenes/voronoi/superquadric_4/scene_004/images/\"\n",
    "    \n",
    "]\n",
    "\n",
    "# paths_to_stim = glob.glob()\n",
    "full_stim_paths, filenames = [x for x in list_files(paths_to_stim) if x !='.DS_Store'] #generate filenames and stimpaths\n",
    "full_stim_paths.sort()\n",
    "filenames.sort()\n",
    "print('We have {} stimuli to upload.'.format(len(full_stim_paths)))"
   ]
  },
  {
   "cell_type": "markdown",
   "metadata": {},
   "source": [
    "Upload to S3. This expects the `.aws/credentials` file in your home directory."
   ]
  },
  {
   "cell_type": "code",
   "execution_count": 42,
   "metadata": {},
   "outputs": [
    {
     "name": "stdout",
     "output_type": "stream",
     "text": [
      "Done!\n"
     ]
    }
   ],
   "source": [
    "reallyRun = True\n",
    "if reallyRun:\n",
    "\n",
    "    ## establish connection to s3 \n",
    "    s3 = boto3.resource('s3')\n",
    "\n",
    "    ## create a bucket with the appropriate bucket name\n",
    "    try: \n",
    "        b = s3.create_bucket(Bucket=bucket_name) \n",
    "        print('Created new bucket.')\n",
    "#     except NoCredentialsError:\n",
    "#         print(\"Credential missing\") #.aws/credentials should be in home folder, not in repo folder\n",
    "    except:\n",
    "        b = s3.Bucket(bucket_name)\n",
    "        print('Bucket already exists.')\n",
    "\n",
    "    ## do we want to overwrite files on s3?\n",
    "    overwrite = True\n",
    "    \n",
    "    ## set bucket and objects to public\n",
    "    b.Acl().put(ACL='public-read') ## sets bucket to public\n",
    "\n",
    "    ## now let's loop through stim paths and actually upload to s3 (woot!)\n",
    "    for i,path_to_file in enumerate(full_stim_paths):        # use sorted(full_stim_paths) when not using photodraw32\n",
    "        stim_name = filenames[i]\n",
    "        if ((check_exists(s3, bucket_name, stim_name)==False) | (overwrite==True)):\n",
    "            print('Now uploading {} as {} | {} of {}'.format(os.path.split(path_to_file)[-1],stim_name,(i+1),len(full_stim_paths)))\n",
    "            s3.Object(bucket_name,stim_name).put(Body=open(path_to_file,'rb')) ## upload stimuli\n",
    "            s3.Object(bucket_name,stim_name).Acl().put(ACL='public-read') ## set access controls\n",
    "        else: \n",
    "            print('Skipping {} | {} of {} because it already exists.'.format(os.path.split(path_to_file)[-1],(i+1),len(full_stim_paths)))\n",
    "        clear_output(wait=True)\n",
    "print('Done!')"
   ]
  },
  {
   "cell_type": "code",
   "execution_count": 43,
   "metadata": {},
   "outputs": [
    {
     "name": "stdout",
     "output_type": "stream",
     "text": [
      "s3.ObjectSummary(bucket_name='gestalt-static-images', key='Image0001.png')\n",
      "s3.ObjectSummary(bucket_name='gestalt-static-images', key='Image0002.png')\n",
      "s3.ObjectSummary(bucket_name='gestalt-static-images', key='Image0003.png')\n",
      "s3.ObjectSummary(bucket_name='gestalt-static-images', key='Image0004.png')\n",
      "s3.ObjectSummary(bucket_name='gestalt-static-images', key='Image0005.png')\n",
      "s3.ObjectSummary(bucket_name='gestalt-static-images', key='Image0006.png')\n",
      "s3.ObjectSummary(bucket_name='gestalt-static-images', key='Image0007.png')\n",
      "s3.ObjectSummary(bucket_name='gestalt-static-images', key='Image0008.png')\n",
      "s3.ObjectSummary(bucket_name='gestalt-static-images', key='Image0009.png')\n",
      "s3.ObjectSummary(bucket_name='gestalt-static-images', key='Image0010.png')\n",
      "s3.ObjectSummary(bucket_name='gestalt-static-images', key='Image0011.png')\n",
      "s3.ObjectSummary(bucket_name='gestalt-static-images', key='Image0012.png')\n",
      "s3.ObjectSummary(bucket_name='gestalt-static-images', key='Image0013.png')\n",
      "s3.ObjectSummary(bucket_name='gestalt-static-images', key='Image0014.png')\n",
      "s3.ObjectSummary(bucket_name='gestalt-static-images', key='Image0015.png')\n",
      "s3.ObjectSummary(bucket_name='gestalt-static-images', key='Image0016.png')\n",
      "s3.ObjectSummary(bucket_name='gestalt-static-images', key='Image0017.png')\n",
      "s3.ObjectSummary(bucket_name='gestalt-static-images', key='Image0018.png')\n",
      "s3.ObjectSummary(bucket_name='gestalt-static-images', key='Image0019.png')\n",
      "s3.ObjectSummary(bucket_name='gestalt-static-images', key='Image0020.png')\n",
      "s3.ObjectSummary(bucket_name='gestalt-static-images', key='Image0021.png')\n",
      "s3.ObjectSummary(bucket_name='gestalt-static-images', key='Image0022.png')\n",
      "s3.ObjectSummary(bucket_name='gestalt-static-images', key='Image0023.png')\n",
      "s3.ObjectSummary(bucket_name='gestalt-static-images', key='Image0024.png')\n",
      "s3.ObjectSummary(bucket_name='gestalt-static-images', key='Image0025.png')\n",
      "s3.ObjectSummary(bucket_name='gestalt-static-images', key='Image0026.png')\n",
      "s3.ObjectSummary(bucket_name='gestalt-static-images', key='Image0027.png')\n",
      "s3.ObjectSummary(bucket_name='gestalt-static-images', key='Image0028.png')\n",
      "s3.ObjectSummary(bucket_name='gestalt-static-images', key='Image0029.png')\n",
      "s3.ObjectSummary(bucket_name='gestalt-static-images', key='Image0030.png')\n",
      "s3.ObjectSummary(bucket_name='gestalt-static-images', key='Image0031.png')\n",
      "s3.ObjectSummary(bucket_name='gestalt-static-images', key='Image0032.png')\n",
      "s3.ObjectSummary(bucket_name='gestalt-static-images', key='Image0033.png')\n",
      "s3.ObjectSummary(bucket_name='gestalt-static-images', key='Image0034.png')\n",
      "s3.ObjectSummary(bucket_name='gestalt-static-images', key='Image0035.png')\n",
      "s3.ObjectSummary(bucket_name='gestalt-static-images', key='Image0036.png')\n",
      "s3.ObjectSummary(bucket_name='gestalt-static-images', key='Image0037.png')\n",
      "s3.ObjectSummary(bucket_name='gestalt-static-images', key='Image0038.png')\n",
      "s3.ObjectSummary(bucket_name='gestalt-static-images', key='Image0039.png')\n",
      "s3.ObjectSummary(bucket_name='gestalt-static-images', key='Image0040.png')\n",
      "s3.ObjectSummary(bucket_name='gestalt-static-images', key='Image0041.png')\n",
      "s3.ObjectSummary(bucket_name='gestalt-static-images', key='Image0042.png')\n",
      "s3.ObjectSummary(bucket_name='gestalt-static-images', key='Image0043.png')\n",
      "s3.ObjectSummary(bucket_name='gestalt-static-images', key='Image0044.png')\n",
      "s3.ObjectSummary(bucket_name='gestalt-static-images', key='Image0045.png')\n",
      "s3.ObjectSummary(bucket_name='gestalt-static-images', key='Image0046.png')\n",
      "s3.ObjectSummary(bucket_name='gestalt-static-images', key='Image0047.png')\n",
      "s3.ObjectSummary(bucket_name='gestalt-static-images', key='Image0048.png')\n",
      "s3.ObjectSummary(bucket_name='gestalt-static-images', key='Image0049.png')\n",
      "s3.ObjectSummary(bucket_name='gestalt-static-images', key='Image0050.png')\n",
      "s3.ObjectSummary(bucket_name='gestalt-static-images', key='Image0051.png')\n",
      "s3.ObjectSummary(bucket_name='gestalt-static-images', key='Image0052.png')\n",
      "s3.ObjectSummary(bucket_name='gestalt-static-images', key='Image0053.png')\n",
      "s3.ObjectSummary(bucket_name='gestalt-static-images', key='Image0054.png')\n",
      "s3.ObjectSummary(bucket_name='gestalt-static-images', key='Image0055.png')\n",
      "s3.ObjectSummary(bucket_name='gestalt-static-images', key='Image0056.png')\n",
      "s3.ObjectSummary(bucket_name='gestalt-static-images', key='Image0057.png')\n",
      "s3.ObjectSummary(bucket_name='gestalt-static-images', key='Image0058.png')\n",
      "s3.ObjectSummary(bucket_name='gestalt-static-images', key='Image0059.png')\n",
      "s3.ObjectSummary(bucket_name='gestalt-static-images', key='Image0060.png')\n",
      "s3.ObjectSummary(bucket_name='gestalt-static-images', key='Image0061.png')\n",
      "s3.ObjectSummary(bucket_name='gestalt-static-images', key='Image0062.png')\n",
      "s3.ObjectSummary(bucket_name='gestalt-static-images', key='Image0063.png')\n",
      "s3.ObjectSummary(bucket_name='gestalt-static-images', key='Image0064.png')\n"
     ]
    }
   ],
   "source": [
    "for my_bucket_object in b.objects.all():\n",
    "    print(my_bucket_object)"
   ]
  },
  {
   "cell_type": "code",
   "execution_count": null,
   "metadata": {},
   "outputs": [],
   "source": []
  },
  {
   "cell_type": "code",
   "execution_count": 34,
   "metadata": {},
   "outputs": [],
   "source": [
    "### add burn-in trials"
   ]
  },
  {
   "cell_type": "code",
   "execution_count": 35,
   "metadata": {},
   "outputs": [],
   "source": [
    "### add catch trials"
   ]
  },
  {
   "cell_type": "code",
   "execution_count": null,
   "metadata": {},
   "outputs": [],
   "source": []
  }
 ],
 "metadata": {
  "kernelspec": {
   "display_name": "Python 3",
   "language": "python",
   "name": "python3"
  },
  "language_info": {
   "codemirror_mode": {
    "name": "ipython",
    "version": 3
   },
   "file_extension": ".py",
   "mimetype": "text/x-python",
   "name": "python",
   "nbconvert_exporter": "python",
   "pygments_lexer": "ipython3",
   "version": "3.8.3"
  }
 },
 "nbformat": 4,
 "nbformat_minor": 4
}
