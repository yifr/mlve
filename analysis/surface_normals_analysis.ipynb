{
 "cells": [
  {
   "cell_type": "code",
   "execution_count": null,
   "metadata": {},
   "outputs": [],
   "source": [
    "%load_ext autoreload\n",
    "%autoreload 2"
   ]
  },
  {
   "cell_type": "code",
   "execution_count": null,
   "metadata": {},
   "outputs": [],
   "source": [
    "import os\n",
    "import re\n",
    "import io\n",
    "import ast\n",
    "import sys\n",
    "import json\n",
    "import boto3 \n",
    "import pymongo \n",
    "import subprocess\n",
    "import numpy as np\n",
    "import pandas as pd\n",
    "import seaborn as sns\n",
    "import matplotlib.pyplot as plt\n",
    "import matplotlib.patches as patches\n",
    "\n",
    "from PIL import Image\n",
    "from urllib import request\n",
    "from collections import Counter\n",
    "\n",
    "sys.path.append(\"../\")\n",
    "import cabutils"
   ]
  },
  {
   "cell_type": "code",
   "execution_count": null,
   "metadata": {},
   "outputs": [],
   "source": [
    "sns.set_style(\"darkgrid\")\n",
    "sns.set_context(\"notebook\")"
   ]
  },
  {
   "cell_type": "code",
   "execution_count": null,
   "metadata": {},
   "outputs": [],
   "source": [
    "from matplotlib import rcParams\n",
    "rcParams[\"font.size\"] = 18\n",
    "rcParams[\"figure.titlesize\"] = 26"
   ]
  },
  {
   "cell_type": "code",
   "execution_count": null,
   "metadata": {},
   "outputs": [],
   "source": [
    "projName = \"mlve\"\n",
    "experimentName = \"tdw_surface-normals\"\n",
    "S3_BUCKET_NAME = \"mlve-v1\""
   ]
  },
  {
   "cell_type": "markdown",
   "metadata": {},
   "source": [
    "To download data (@Yoni only), run: \n",
    "ssh -i /Users/yoni/Desktop/cocosci_pem/Cocosci_WebExperiments.pem -nNL 8000:localhost:27017  ubuntu@ec2-3-90-78-57.compute-1.amazonaws.com"
   ]
  },
  {
   "cell_type": "markdown",
   "metadata": {},
   "source": [
    "# Downloading data from ec2 server (mostly just instructions for thomas)\n",
    "\n",
    "In `settings.conf` change the `MONGODB_PORT` to 8000, and the `MONGODB_HOST` to `localhost`. Then run the ssh port into the ec2 server: \n",
    "\n",
    "```\n",
    "ssh -i path/to/pem/key/maybe-named-something-like/Cocosci_WebExperiments.pem -fNL 8000:localhost:27017 ubuntu@ec2-54-91-252-25.compute-1.amazonaws.com\n",
    "```\n",
    "\n",
    "Change the path to the pem key, but otherwise this should all stay the same."
   ]
  },
  {
   "cell_type": "code",
   "execution_count": null,
   "metadata": {},
   "outputs": [],
   "source": [
    "conn = cabutils.get_db_connection()\n",
    "db = conn[projName + \"_outputs\"]\n",
    "col = db[experimentName]"
   ]
  },
  {
   "cell_type": "code",
   "execution_count": null,
   "metadata": {},
   "outputs": [],
   "source": [
    "def results_to_df():\n",
    "    results = []\n",
    "    cursor = col.find({})\n",
    "    for document in cursor:\n",
    "        results.append(document)\n",
    "    \n",
    "    df = pd.DataFrame(results)\n",
    "    return df\n",
    "\n",
    "df = results_to_df()"
   ]
  },
  {
   "cell_type": "code",
   "execution_count": null,
   "metadata": {},
   "outputs": [],
   "source": [
    "for i, x in df[df[\"trial_type\"] == \"survey-text\"].iterrows():\n",
    "    print(x[\"response\"])"
   ]
  },
  {
   "cell_type": "code",
   "execution_count": null,
   "metadata": {},
   "outputs": [],
   "source": [
    "df.info()"
   ]
  },
  {
   "cell_type": "code",
   "execution_count": null,
   "metadata": {},
   "outputs": [],
   "source": [
    "df.drop(\"trial_type\", axis=1, inplace=True)\n",
    "df.drop(\"rt\", axis=1, inplace=True)\n",
    "df.drop(\"response\", axis=1, inplace=True)\n",
    "df.drop(\"inputid\", axis=1, inplace=True)"
   ]
  },
  {
   "cell_type": "code",
   "execution_count": null,
   "metadata": {},
   "outputs": [],
   "source": [
    "df.drop(df[df[\"indicatorFinalDirection\"].isna() == True].index, inplace=True)"
   ]
  },
  {
   "cell_type": "code",
   "execution_count": null,
   "metadata": {},
   "outputs": [],
   "source": [
    "def download_from_s3(url, resource_type=\"image\"):\n",
    "    s3 = boto3.resource('s3', region_name=\"us-east-2\")\n",
    "    bucket = s3.Bucket(S3_BUCKET_NAME)\n",
    "    item = bucket.Object(url)\n",
    "    if resource_type == \"image\":\n",
    "        file_stream = io.BytesIO()\n",
    "        item.download_fileobj(file_stream)\n",
    "        img = Image.open(file_stream)\n",
    "        return img\n",
    "    \n",
    "    else:\n",
    "        return item"
   ]
  },
  {
   "cell_type": "code",
   "execution_count": null,
   "metadata": {},
   "outputs": [],
   "source": [
    "def download_from_url(url):\n",
    "    obj = request.urlretrieve(url)\n",
    "    image = Image.open(obj[0])\n",
    "    return image"
   ]
  },
  {
   "cell_type": "code",
   "execution_count": null,
   "metadata": {},
   "outputs": [],
   "source": [
    "def cos_similarity(a, b):\n",
    "    a = np.array(a)\n",
    "    b = np.array(b)\n",
    "    return a.dot(b) / (np.linalg.norm(a) * np.linalg.norm(b))"
   ]
  },
  {
   "cell_type": "code",
   "execution_count": null,
   "metadata": {},
   "outputs": [],
   "source": [
    "def geodesic_dist(a, b):\n",
    "    if not a or not b:\n",
    "        return float(\"nan\")\n",
    "    a = np.array(a)\n",
    "    b = np.array(b)\n",
    "    a = a / np.linalg.norm(a)\n",
    "    b = b / np.linalg.norm(b)\n",
    "    \n",
    "    return np.arccos(a.dot(b))"
   ]
  },
  {
   "cell_type": "code",
   "execution_count": null,
   "metadata": {},
   "outputs": [],
   "source": [
    "df[\"geodesic_distance\"] = df.apply(lambda x: geodesic_dist(x[\"indicatorFinalDirection\"], x[\"trueArrowDirection\"]), axis=1)\n",
    "df[\"cosine_similarity\"] = df.apply(lambda x: cos_similarity(x[\"indicatorFinalDirection\"], x[\"trueArrowDirection\"]), axis=1)"
   ]
  },
  {
   "cell_type": "code",
   "execution_count": null,
   "metadata": {},
   "outputs": [],
   "source": [
    "fig, axs = plt.subplots(1, 2, figsize=(18,9))\n",
    "sns.histplot(df[\"geodesic_distance\"], ax=axs[0])\n",
    "sns.histplot(df[\"cosine_similarity\"], ax=axs[1])\n",
    "\n",
    "axs[0].set_title(f\"Geodesic error across all trials\", fontsize=18)\n",
    "axs[1].set_title(f\"Cosine similarity across all trials\", fontsize=18)\n",
    "plt.suptitle(f\"{experimentName}\")\n",
    "\n",
    "plt.show()"
   ]
  },
  {
   "cell_type": "markdown",
   "metadata": {},
   "source": [
    "# Generate cleaned version"
   ]
  },
  {
   "cell_type": "code",
   "execution_count": null,
   "metadata": {},
   "outputs": [],
   "source": [
    "df.head()"
   ]
  },
  {
   "cell_type": "code",
   "execution_count": null,
   "metadata": {},
   "outputs": [],
   "source": [
    "participants = df.groupby(\"userID\")\n",
    "participants_failed = []\n",
    "i = 0 \n",
    "batch_idxs = []\n",
    "for index, user_results in participants:\n",
    "    i += 1\n",
    "    print(len(user_results))\n",
    "    batch_idxs.append(user_results.iloc[0][\"batch_idx\"])\n",
    "    \n",
    "    if len(user_results) < 100:\n",
    "        print(\"USER ID: \" + user_results[\"userID\"].iloc[0] + \" did not finish the experiment\")\n",
    "        participants_failed.append(user_results[\"userID\"].iloc[0])\n",
    "        continue\n",
    "    \n",
    "    if user_results[\"geodesic_distance\"].mean() > 1.5:\n",
    "        print(\"USER ID: \" + user_results[\"userID\"].iloc[0] + \" did not do too well\")\n",
    "        continue\n",
    "        \n",
    "    attention_checks = user_results[user_results[\"attention_check\"]] == True\n",
    "    attention_score = attention_checks[\"geodesic_distance\"].mean()\n",
    "    if attention_score > 1:\n",
    "        print(\"USER ID: \" + user_results[\"userID\"].iloc[0] + \"scored: \" + attention_score)\n",
    "        participants_failed.append(user_results[\"userID\"].iloc[0])\n",
    "\n",
    "print(participants_failed)\n",
    "\n",
    "# failed_participants = df[\"userID\"].apply(lambda x: x in participants_failed)\n",
    "# df = df[~failed_participants]\n",
    "# attention_checks = df[\"stimulus\"].apply(lambda x: \"ground_truth\" in x)\n",
    "# df = df[~attention_checks]\n",
    "\n",
    "# my_data = df[\"userID\"] == \"yoni_test2\"\n",
    "# df = df[~my_data]"
   ]
  },
  {
   "cell_type": "code",
   "execution_count": null,
   "metadata": {},
   "outputs": [],
   "source": [
    "attention_indexes = df[df[\"attention_check\"] == True].index\n",
    "df.drop(attention_indexes, axis=0, inplace=True)"
   ]
  },
  {
   "cell_type": "code",
   "execution_count": null,
   "metadata": {},
   "outputs": [],
   "source": [
    "df.info()"
   ]
  },
  {
   "cell_type": "markdown",
   "metadata": {},
   "source": [
    "# To-Do:\n",
    "\n",
    "1. Visualize answers\n",
    "2. Check consistency\n",
    "3. Rank participants by score\n",
    "4. Check which trials had the lowest score\n",
    "5. Check how often people oriented arrow straight up (relative to baseline)\n",
    "6. Heatmap of correct vs. incorrect?"
   ]
  },
  {
   "cell_type": "code",
   "execution_count": null,
   "metadata": {},
   "outputs": [],
   "source": []
  }
 ],
 "metadata": {
  "kernelspec": {
   "display_name": "Python 3",
   "language": "python",
   "name": "python3"
  },
  "language_info": {
   "codemirror_mode": {
    "name": "ipython",
    "version": 3
   },
   "file_extension": ".py",
   "mimetype": "text/x-python",
   "name": "python",
   "nbconvert_exporter": "python",
   "pygments_lexer": "ipython3",
   "version": "3.8.3"
  }
 },
 "nbformat": 4,
 "nbformat_minor": 4
}
