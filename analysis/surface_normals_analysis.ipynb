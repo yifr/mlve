{
 "cells": [
  {
   "cell_type": "code",
   "execution_count": null,
   "metadata": {},
   "outputs": [],
   "source": [
    "%load_ext autoreload\n",
    "%matplotlib inline\n",
    "%autoreload 2"
   ]
  },
  {
   "cell_type": "code",
   "execution_count": null,
   "metadata": {},
   "outputs": [],
   "source": [
    "import os\n",
    "import re\n",
    "import io\n",
    "import ast\n",
    "import sys\n",
    "import json\n",
    "import boto3 \n",
    "import pymongo \n",
    "import subprocess\n",
    "import numpy as np\n",
    "import pandas as pd\n",
    "import seaborn as sns\n",
    "\n",
    "from matplotlib import cm\n",
    "import plotly.graph_objects as go\n",
    "import matplotlib.pyplot as plt\n",
    "import matplotlib.patches as patches\n",
    "from mpl_toolkits.mplot3d import Axes3D\n",
    "\n",
    "\n",
    "from PIL import Image\n",
    "from urllib import request\n",
    "from collections import Counter\n",
    "\n",
    "sys.path.append(\"../\")\n",
    "import cabutils"
   ]
  },
  {
   "cell_type": "code",
   "execution_count": null,
   "metadata": {},
   "outputs": [],
   "source": [
    "sns.set_style(\"darkgrid\")\n",
    "sns.set_context(\"notebook\")"
   ]
  },
  {
   "cell_type": "code",
   "execution_count": null,
   "metadata": {},
   "outputs": [],
   "source": [
    "from matplotlib import rcParams\n",
    "rcParams[\"font.size\"] = 18\n",
    "rcParams[\"figure.titlesize\"] = 26"
   ]
  },
  {
   "cell_type": "code",
   "execution_count": null,
   "metadata": {},
   "outputs": [],
   "source": [
    "projName = \"mlve\"\n",
    "experiment = \"tdw\"\n",
    "experimentName = f\"{experiment}_surface-normals\"\n",
    "S3_BUCKET_NAME = \"mlve-v1\""
   ]
  },
  {
   "cell_type": "markdown",
   "metadata": {},
   "source": [
    "To download data (@Yoni only), run: \n",
    "ssh -i /Users/yoni/Desktop/cocosci_pem/Cocosci_WebExperiments.pem -nNL 8000:localhost:27017  ubuntu@ec2-3-90-78-57.compute-1.amazonaws.com"
   ]
  },
  {
   "cell_type": "markdown",
   "metadata": {},
   "source": [
    "# Downloading data from ec2 server (mostly just instructions for thomas)\n",
    "\n",
    "In `settings.conf` change the `MONGODB_PORT` to 8000, and the `MONGODB_HOST` to `localhost`. Then run the ssh port into the ec2 server: \n",
    "\n",
    "```\n",
    "ssh -i path/to/pem/key/maybe-named-something-like/Cocosci_WebExperiments.pem -fNL 8000:localhost:27017 ubuntu@ec2-54-91-252-25.compute-1.amazonaws.com\n",
    "```\n",
    "\n",
    "Change the path to the pem key, but otherwise this should all stay the same."
   ]
  },
  {
   "cell_type": "code",
   "execution_count": null,
   "metadata": {},
   "outputs": [],
   "source": [
    "conn = cabutils.get_db_connection()\n",
    "db = conn[projName + \"_outputs\"]\n",
    "col = db[experimentName]"
   ]
  },
  {
   "cell_type": "code",
   "execution_count": null,
   "metadata": {},
   "outputs": [],
   "source": [
    "def results_to_df():\n",
    "    results = []\n",
    "    cursor = col.find({})\n",
    "    for document in cursor:\n",
    "        results.append(document)\n",
    "    \n",
    "    df = pd.DataFrame(results)\n",
    "    return df\n",
    "\n",
    "df = results_to_df()"
   ]
  },
  {
   "cell_type": "code",
   "execution_count": null,
   "metadata": {},
   "outputs": [],
   "source": [
    "for i, x in df[df[\"trial_type\"] == \"survey-text\"].iterrows():\n",
    "    print(x[\"response\"])"
   ]
  },
  {
   "cell_type": "code",
   "execution_count": null,
   "metadata": {},
   "outputs": [],
   "source": [
    "df.info()"
   ]
  },
  {
   "cell_type": "code",
   "execution_count": null,
   "metadata": {},
   "outputs": [],
   "source": [
    "df.drop(\"trial_type\", axis=1, inplace=True)\n",
    "df.drop(\"rt\", axis=1, inplace=True)\n",
    "df.drop(\"response\", axis=1, inplace=True)\n",
    "df.drop(\"inputid\", axis=1, inplace=True)"
   ]
  },
  {
   "cell_type": "code",
   "execution_count": null,
   "metadata": {},
   "outputs": [],
   "source": [
    "df.drop(df[df[\"indicatorFinalDirection\"].isna() == True].index, inplace=True)"
   ]
  },
  {
   "cell_type": "code",
   "execution_count": null,
   "metadata": {},
   "outputs": [],
   "source": [
    "df.drop(df[df[\"trueArrowDirection\"].apply(lambda x: x == [None, None, None]) == True].index, inplace=True)"
   ]
  },
  {
   "cell_type": "code",
   "execution_count": null,
   "metadata": {},
   "outputs": [],
   "source": [
    "def download_from_s3(url, resource_type=\"image\"):\n",
    "    s3 = boto3.resource('s3', region_name=\"us-east-2\")\n",
    "    bucket = s3.Bucket(S3_BUCKET_NAME)\n",
    "    item = bucket.Object(url)\n",
    "    if resource_type == \"image\":\n",
    "        file_stream = io.BytesIO()\n",
    "        item.download_fileobj(file_stream)\n",
    "        img = Image.open(file_stream)\n",
    "        return img\n",
    "    \n",
    "    else:\n",
    "        return item"
   ]
  },
  {
   "cell_type": "code",
   "execution_count": null,
   "metadata": {},
   "outputs": [],
   "source": [
    "def download_from_url(url):\n",
    "    obj = request.urlretrieve(url)\n",
    "    image = Image.open(obj[0])\n",
    "    return image"
   ]
  },
  {
   "cell_type": "code",
   "execution_count": null,
   "metadata": {},
   "outputs": [],
   "source": [
    "def draw_circles(ax, locs, size=10, edgecolor=\"red\", facecolor=\"none\", lw=2):\n",
    "    \"\"\"\n",
    "    draws circle patches on an image at specified locations\n",
    "    \"\"\"\n",
    "    for point in locs:\n",
    "        circ = patches.Circle((point[1], point[0]), size, ec=edgecolor, fc=facecolor, lw=lw)\n",
    "        ax.add_patch(circ)\n",
    "    return ax\n"
   ]
  },
  {
   "cell_type": "code",
   "execution_count": null,
   "metadata": {},
   "outputs": [],
   "source": [
    "def cos_similarity(a, b):\n",
    "    a = np.array(a)\n",
    "    b = np.array(b)\n",
    "    return a.dot(b) / (np.linalg.norm(a) * np.linalg.norm(b))"
   ]
  },
  {
   "cell_type": "code",
   "execution_count": null,
   "metadata": {},
   "outputs": [],
   "source": [
    "def geodesic_dist(a, b):\n",
    "    a = np.array(a)\n",
    "    b = np.array(b)\n",
    "    if not a.shape or not b.shape:\n",
    "        print(\"No data for: \", a, b)\n",
    "        return float(\"nan\")\n",
    "\n",
    "    a = a / np.linalg.norm(a)\n",
    "    b = b / np.linalg.norm(b)\n",
    "    \n",
    "    dist = np.arccos(a.dot(b))\n",
    "    return dist"
   ]
  },
  {
   "cell_type": "markdown",
   "metadata": {},
   "source": [
    "### Check user consistency"
   ]
  },
  {
   "cell_type": "code",
   "execution_count": null,
   "metadata": {},
   "outputs": [],
   "source": [
    "potential_fails = []\n",
    "for user, rows in df.groupby(\"userID\"):\n",
    "    attention_checks = rows[rows[\"attention_check\"]]\n",
    "    ifd = attention_checks[\"indicatorFinalDirection\"].values\n",
    "    tad = attention_checks[\"trueArrowDirection\"].values\n",
    "    \n",
    "    dists = [geodesic_dist(a, b) for a, b in zip(ifd, tad)]\n",
    "    score = np.mean(dists)\n",
    "    if score > 1:\n",
    "        print(user, score)\n",
    "        potential_fails.append(user)\n",
    "print(potential_fails)"
   ]
  },
  {
   "cell_type": "code",
   "execution_count": null,
   "metadata": {},
   "outputs": [],
   "source": [
    "userID = \"611cc87fae0fb55e133eca3d\"\n",
    "print(len(df[df[\"userID\"] == userID]))\n",
    "print(df[df[\"userID\"] == userID][\"geodesic_distance\"].median())"
   ]
  },
  {
   "cell_type": "code",
   "execution_count": null,
   "metadata": {},
   "outputs": [],
   "source": [
    "df[\"geodesic_distance\"] = df.apply(lambda x: geodesic_dist(x[\"indicatorFinalDirection\"], x[\"trueArrowDirection\"]), axis=1)\n",
    "df[\"cosine_similarity\"] = df.apply(lambda x: cos_similarity(x[\"indicatorFinalDirection\"], x[\"trueArrowDirection\"]), axis=1)"
   ]
  },
  {
   "cell_type": "code",
   "execution_count": null,
   "metadata": {},
   "outputs": [],
   "source": [
    "df[df[\"userID\"] == \"5dafea4de40355001651fa2f\"][\"geodesic_distance\"]"
   ]
  },
  {
   "cell_type": "code",
   "execution_count": null,
   "metadata": {},
   "outputs": [],
   "source": [
    "for user in potential_fails:\n",
    "    print(df[df[\"userID\"] == user][\"geodesic_distance\"].mean(), user)"
   ]
  },
  {
   "cell_type": "code",
   "execution_count": null,
   "metadata": {},
   "outputs": [],
   "source": [
    "geo_errors = []\n",
    "n_users = 0\n",
    "for user, rows in df.groupby(\"userID\"):\n",
    "    geo_errors.append(rows[\"geodesic_distance\"].mean())\n",
    "    n_users += 1\n",
    "    \n",
    "plt.hist(geo_errors, bins=n_users )\n",
    "plt.show()\n",
    "    "
   ]
  },
  {
   "cell_type": "code",
   "execution_count": null,
   "metadata": {},
   "outputs": [],
   "source": [
    "\n",
    "fig, axs = plt.subplots(1, 2, figsize=(18,9))\n",
    "sns.histplot(df[\"geodesic_distance\"], ax=axs[0])\n",
    "sns.histplot(df[\"cosine_similarity\"], ax=axs[1])\n",
    "\n",
    "axs[0].set_title(f\"Geodesic error across all trials\", fontsize=18)\n",
    "axs[1].set_title(f\"Cosine similarity across all trials\", fontsize=18)\n",
    "plt.suptitle(f\"{experimentName}\")\n",
    "\n",
    "plt.show()"
   ]
  },
  {
   "cell_type": "markdown",
   "metadata": {},
   "source": [
    "# Generate cleaned version"
   ]
  },
  {
   "cell_type": "code",
   "execution_count": null,
   "metadata": {},
   "outputs": [],
   "source": [
    "df.head()"
   ]
  },
  {
   "cell_type": "code",
   "execution_count": null,
   "metadata": {},
   "outputs": [],
   "source": [
    "participants = df.groupby(\"userID\")\n",
    "participants_failed = []\n",
    "i = 0 \n",
    "batch_idxs = []\n",
    "for index, user_results in participants:\n",
    "    i += 1\n",
    "    batch_idxs.append(user_results.iloc[0][\"batch_idx\"])\n",
    "    \n",
    "    if len(user_results) < 100:\n",
    "        print(\"USER ID: \" + user_results[\"userID\"].iloc[0] + \" did not finish the experiment\")\n",
    "        participants_failed.append(user_results[\"userID\"].iloc[0])\n",
    "        continue\n",
    "    \n",
    "    if user_results[\"geodesic_distance\"].mean() > 1.5:\n",
    "        print(\"USER ID: \" + user_results[\"userID\"].iloc[0] + \" did not do too well\")\n",
    "        continue\n",
    "        \n",
    "    attention_checks = user_results[user_results[\"attention_check\"]] == True\n",
    "    attention_score = attention_checks[\"geodesic_distance\"].mean()\n",
    "    if attention_score > 1:\n",
    "        print(\"USER ID: \" + user_results[\"userID\"].iloc[0] + \"scored: \" + attention_score)\n",
    "        participants_failed.append(user_results[\"userID\"].iloc[0])\n",
    "\n",
    "print(participants_failed)\n",
    "\n",
    "# failed_participants = df[\"userID\"].apply(lambda x: x in participants_failed)\n",
    "# df = df[~failed_participants]\n",
    "# attention_checks = df[\"stimulus\"].apply(lambda x: \"ground_truth\" in x)\n",
    "# df = df[~attention_checks]\n",
    "\n",
    "# my_data = df[\"userID\"] == \"yoni_test2\"\n",
    "# df = df[~my_data]"
   ]
  },
  {
   "cell_type": "code",
   "execution_count": null,
   "metadata": {},
   "outputs": [],
   "source": [
    "attention_indexes = df[df[\"attention_check\"] == True].index\n",
    "df.drop(attention_indexes, axis=0, inplace=True)"
   ]
  },
  {
   "cell_type": "code",
   "execution_count": null,
   "metadata": {},
   "outputs": [],
   "source": [
    "df.info()"
   ]
  },
  {
   "cell_type": "markdown",
   "metadata": {
    "tags": []
   },
   "source": [
    "# To-Do:\n",
    "\n",
    "2. Check consistency\n",
    "3. Rank participants by score\n",
    "4. Check which trials had the lowest score"
   ]
  },
  {
   "cell_type": "markdown",
   "metadata": {},
   "source": [
    "## Visualization Ideas\n",
    "\n",
    "4. Each image w/ probe locations --> put em in a zip\n",
    "3. Heatmap on a sphere?\n",
    "1. Download image -- overlay subject estimates with arrow\n",
    "6. Correlate (X, Y) with estimate + error\n",
    "5. NSD --> Check participant distribution (histogram, heatmap)\n",
    "7. Surface normal UNet / model?"
   ]
  },
  {
   "cell_type": "markdown",
   "metadata": {},
   "source": [
    "### long shot vis\n",
    "1. Compare distribution of histograms across datasets"
   ]
  },
  {
   "cell_type": "markdown",
   "metadata": {},
   "source": [
    "## Plot the distribution of surface normals"
   ]
  },
  {
   "cell_type": "code",
   "execution_count": null,
   "metadata": {},
   "outputs": [],
   "source": [
    "indicator_directions = np.array([x for x in df[\"indicatorFinalDirection\"]])\n",
    "true_directions = np.array([x for x in df[\"trueArrowDirection\"]])"
   ]
  },
  {
   "cell_type": "code",
   "execution_count": null,
   "metadata": {},
   "outputs": [],
   "source": [
    "### from tqdm.notebook import tqdm\n",
    "\n",
    "def near( p, pntList, d0 ):\n",
    "    cnt=0\n",
    "    for pj in pntList:\n",
    "        dist=geodesic_dist(p, pj)\n",
    "        if dist < d0:\n",
    "            cnt += 1 - dist/d0\n",
    "    return cnt\n",
    "\n",
    "\n",
    "\"\"\"\n",
    "https://stackoverflow.com/questions/22128909/plotting-the-temperature-distribution-on-a-sphere-with-python\n",
    "\"\"\"\n",
    "\n",
    "def calculate_heatmap(pointList, threshold=0.1):\n",
    "\n",
    "    u = np.linspace( 0, 2 * np.pi, 60)\n",
    "    v = np.linspace( 0, np.pi, 60 )\n",
    "\n",
    "    # create the sphere surface\n",
    "    XX = 10 * np.outer( np.cos( u ), np.sin( v ) )\n",
    "    YY = 10 * np.outer( np.sin( u ), np.sin( v ) )\n",
    "    ZZ = 10 * np.outer( np.ones( np.size( u ) ), np.cos( v ) )\n",
    "\n",
    "    pbar = tqdm(total = len(XX) * len(XX[0]))\n",
    "\n",
    "    WW = XX.copy()\n",
    "    for i in range( len( XX ) ):\n",
    "        for j in range( len( XX[0] ) ):\n",
    "            x = XX[ i, j ]\n",
    "            y = YY[ i, j ]\n",
    "            z = ZZ[ i, j ]\n",
    "            dist = near(np.array( [x, y, z ] ), pointList, threshold)\n",
    "            WW[ i, j ] = dist\n",
    "            pbar.update(1)\n",
    "\n",
    "    heatmap = WW / np.amax( WW )\n",
    "    return heatmap, (XX, YY, ZZ)"
   ]
  },
  {
   "cell_type": "code",
   "execution_count": null,
   "metadata": {},
   "outputs": [],
   "source": [
    "participant_heatmap, spherical_coords = calculate_heatmap(indicator_directions)\n",
    "if experimentName != \"nsd_surface-normals\":\n",
    "    gt_heatmap, spherical_coords = calculate_heatmap(true_directions)"
   ]
  },
  {
   "cell_type": "code",
   "execution_count": null,
   "metadata": {},
   "outputs": [],
   "source": [
    "fig, axs = plt.subplots(1, 2, figsize=(16, 8))\n",
    "g = sns.histplot(true_directions, ax=axs[0])\n",
    "axs[0].legend([\"x\",\"y\",\"z\"])\n",
    "axs[0].set_title(\"True Surface Normal Distribution\")\n",
    "\n",
    "g = sns.histplot(indicator_directions, ax=axs[1])\n",
    "axs[1].legend([\"x\",\"y\",\"z\"])\n",
    "axs[1].set_title(\"Participant Surface Normal Distribution\")\n",
    "plt.suptitle(f\"{experimentName}\")"
   ]
  },
  {
   "cell_type": "markdown",
   "metadata": {},
   "source": [
    "## Visualize the distribution of sampled points on images"
   ]
  },
  {
   "cell_type": "code",
   "execution_count": null,
   "metadata": {},
   "outputs": [],
   "source": [
    "plot_images = False"
   ]
  },
  {
   "cell_type": "code",
   "execution_count": null,
   "metadata": {
    "scrolled": false
   },
   "outputs": [],
   "source": [
    "if plot_images:\n",
    "    save_dir = os.path.join(f\"figures/{experimentName}\")\n",
    "    if not os.path.exists(save_dir):\n",
    "        os.makedirs(save_dir)\n",
    "\n",
    "    sns.set_style(\"white\")\n",
    "    for url, row in df.groupby(\"imageURL\"):\n",
    "        point_locs = row[\"arrowPixelPosition\"]\n",
    "        locs = set()\n",
    "        for point in point_locs:\n",
    "            locs.add(tuple(point))\n",
    "\n",
    "        locs = list(locs)\n",
    "        image = download_from_url(url)\n",
    "        plt.close()\n",
    "        fig,ax = plt.subplots(1, figsize=(12, 12))\n",
    "        ax.set_aspect('equal')\n",
    "\n",
    "        ax = draw_circles(ax, locs, size=15, lw=4)\n",
    "        ax = draw_circles(ax, locs, size=10, lw=4)\n",
    "\n",
    "        ax.imshow(image)\n",
    "    #     pixelPositions = row[\"arrowPixelPosition\"]\n",
    "    #     idfs = row[\"indicatorFinalDirection\"]\n",
    "    #     for i in range(len(pixelPositions)):\n",
    "    #         loc = pixelPositions.iloc[i]\n",
    "    #         ifd = idfs.iloc[i]\n",
    "    #         r = lambda: np.random.randint(0,255)\n",
    "    #         color = '#%02X%02X%02X' % (r(),r(),r())\n",
    "    #         ax.quiver(loc[1], loc[0], ifd[0], ifd[2], scale=ifd[1], color=color, angles=\"xy\", scale_units='y')\n",
    "\n",
    "        save_title = url.split(\"/\")[-1]\n",
    "        plt.savefig(os.path.join(save_dir, save_title))\n",
    "        plt.show()\n",
    "\n",
    "\n",
    "    sns.set_style(\"darkgrid\")   "
   ]
  },
  {
   "cell_type": "code",
   "execution_count": null,
   "metadata": {},
   "outputs": [],
   "source": [
    "indicator_directions.shape, heatmap.shape"
   ]
  },
  {
   "cell_type": "code",
   "execution_count": null,
   "metadata": {},
   "outputs": [],
   "source": [
    "\n",
    "fig = go.Figure(data=[go.Scatter3d(x=spherical_coords[0].flatten(), \n",
    "                                   y=spherical_coords[1].flatten(), \n",
    "                                   z=spherical_coords[2].flatten(),\n",
    "                                   mode='markers',\n",
    "                                   marker=dict(\n",
    "                                    size=5,\n",
    "                                    color=participant_heatmap.flatten(),                # set color to an array/list of desired values\n",
    "                                    colorscale='inferno',   # choose a colorscale\n",
    "                                    opacity=0.8\n",
    "                                ))])\n",
    "fig.update_layout({\"title\": f\"{experimentName}: Participant Surface Normal Distribution\"})\n",
    "\n",
    "fig.show()\n"
   ]
  },
  {
   "cell_type": "code",
   "execution_count": null,
   "metadata": {},
   "outputs": [],
   "source": [
    "\n",
    "fig = go.Figure(data=[go.Scatter3d(x=spherical_coords[0].flatten(), \n",
    "                                   y=spherical_coords[1].flatten(), \n",
    "                                   z=spherical_coords[2].flatten(),\n",
    "                                   mode='markers',\n",
    "                                   marker=dict(\n",
    "                                    size=3,\n",
    "                                    color=gt_heatmap.flatten() + np.random.random(3600),                # set color to an array/list of desired values\n",
    "                                    colorscale='inferno',   # choose a colorscale\n",
    "                                    opacity=0.8\n",
    "                                ))])\n",
    "fig.update_layout({\"title\": f\"{experimentName}: Participant Surface Normal Distribution\"})\n",
    "\n",
    "fig.show()\n"
   ]
  },
  {
   "cell_type": "code",
   "execution_count": null,
   "metadata": {},
   "outputs": [],
   "source": [
    "fig, axs = plt.subplots(3, 1, figsize=(12, 12))\n",
    "for i in range(3):\n",
    "    axs[i].scatter(indicator_directions[:, i], true_directions[:, i])\n",
    "    print(np.corrcoef(indicator_directions[:, i], true_directions[:, i]))\n",
    "plt.show()\n"
   ]
  },
  {
   "cell_type": "code",
   "execution_count": null,
   "metadata": {},
   "outputs": [],
   "source": [
    "fig = plt.figure(figsize=(16,12))\n",
    "ax = fig.add_subplot(projection='3d')\n",
    "\n",
    "ax.scatter(indicator_directions[:, 0], indicator_directions[:, 1], indicator_directions[:, 2], color=\"red\", alpha=0.7)\n",
    "ax.scatter(true_directions[:, 0], true_directions[:, 1], true_directions[:, 2], color=\"blue\")\n",
    "\n",
    "plt.show()"
   ]
  },
  {
   "cell_type": "code",
   "execution_count": null,
   "metadata": {},
   "outputs": [],
   "source": [
    "\n",
    "fig = go.Figure(data=[go.Scatter3d(x=indicator_directions[:, 0], \n",
    "                                   y=indicator_directions[:, 1], \n",
    "                                   z=indicator_directions[:, 2],\n",
    "                                   mode='markers',\n",
    "                                   marker=dict(\n",
    "                                    color=\"blue\",\n",
    "                                    size=5,\n",
    "                                    opacity=0.8\n",
    "                                ))])\n",
    "fig.update_layout({\"title\": f\"{experimentName}: Participant Surface Normal Distribution\"})\n",
    "fig.show()\n",
    "\n",
    "fig = go.Figure(data=[go.Scatter3d(x=indicator_directions[:, 0], \n",
    "                                   y=indicator_directions[:, 1], \n",
    "                                   z=indicator_directions[:, 2],\n",
    "                                   mode='markers',\n",
    "                                   marker=dict(\n",
    "                                    color=\"red\",\n",
    "                                    size=5,\n",
    "                                    colorscale='Viridis',   # choose a colorscale\n",
    "                                    opacity=0.8\n",
    "                                ))])\n",
    "fig.update_layout({\"title\": f\"{experimentName}: Participant Surface Normal Distribution\"})\n",
    "\n",
    "\n",
    "\n",
    "fig.show()\n"
   ]
  },
  {
   "cell_type": "code",
   "execution_count": null,
   "metadata": {},
   "outputs": [],
   "source": [
    "\n",
    "fig = go.Figure(data=[go.Scatter3d(x=true_directions[:, 0], \n",
    "                                   y=true_directions[:, 1], \n",
    "                                   z=true_directions[:, 2],\n",
    "                                   mode='markers',\n",
    "                                   marker=dict(\n",
    "                                    size=5,\n",
    "                                    color=true_directions[:, 0],                # set color to an array/list of desired values\n",
    "                                    colorscale='Viridis',   # choose a colorscale\n",
    "                                    opacity=0.8\n",
    "                                ))])\n",
    "\n",
    "fig.update_layout({\"title\": f\"{experimentName}: True Surface Normal Distribution\"})\n",
    "fig.show()"
   ]
  },
  {
   "cell_type": "code",
   "execution_count": null,
   "metadata": {},
   "outputs": [],
   "source": [
    "fig = plt.figure()\n",
    "ax = fig.add_subplot( 1, 1, 1, projection='3d')\n",
    "\n",
    "ax.plot_surface( XX, YY,  ZZ, cstride=1, rstride=1, facecolors=cm.jet( heatmap ) )\n",
    "plt.show() \n"
   ]
  },
  {
   "cell_type": "code",
   "execution_count": null,
   "metadata": {},
   "outputs": [],
   "source": [
    "\n",
    "fig = go.Figure(data=[go.Scatter3d(x=true_directions[:, 0], \n",
    "                                   y=true_directions[:, 1], \n",
    "                                   z=true_directions[:, 2],\n",
    "                                   mode='markers',\n",
    "                                   marker=dict(\n",
    "                                    size=5,\n",
    "                                    color=heatmap,                # set color to an array/list of desired values\n",
    "                                    colorscale='Viridis',   # choose a colorscale\n",
    "                                    opacity=0.8\n",
    "                                ))])\n",
    "\n",
    "fig.update_layout({\"title\": f\"{experimentName}: True Surface Normal Distribution\"})\n",
    "fig.show()"
   ]
  },
  {
   "cell_type": "code",
   "execution_count": null,
   "metadata": {},
   "outputs": [],
   "source": [
    "x = np.linspace(-4, 4, 6)\n",
    "y = np.linspace(-4, 4, 6)\n",
    "X, Y = np.meshgrid(x, y)\n",
    "U = X + Y\n",
    "V = Y - X\n",
    "\n",
    "# plot\n",
    "fig, ax = plt.subplots()\n",
    "\n",
    "ax.quiver(X, Y, U, V, color=\"C0\", angles='xy',\n",
    "          scale_units='xy', scale=5, width=.015)\n",
    "\n",
    "ax.set(xlim=(-5, 5), ylim=(-5, 5))\n",
    "\n",
    "plt.show()"
   ]
  },
  {
   "cell_type": "code",
   "execution_count": null,
   "metadata": {},
   "outputs": [],
   "source": []
  }
 ],
 "metadata": {
  "kernelspec": {
   "display_name": "Python 3",
   "language": "python",
   "name": "python3"
  },
  "language_info": {
   "codemirror_mode": {
    "name": "ipython",
    "version": 3
   },
   "file_extension": ".py",
   "mimetype": "text/x-python",
   "name": "python",
   "nbconvert_exporter": "python",
   "pygments_lexer": "ipython3",
   "version": "3.8.3"
  }
 },
 "nbformat": 4,
 "nbformat_minor": 4
}
