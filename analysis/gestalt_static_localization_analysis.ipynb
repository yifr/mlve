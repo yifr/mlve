{
 "cells": [
  {
   "cell_type": "code",
   "execution_count": 40,
   "metadata": {},
   "outputs": [],
   "source": [
    "import os\n",
    "import re\n",
    "import io\n",
    "import ast\n",
    "import sys\n",
    "import json\n",
    "import boto3 \n",
    "import pymongo \n",
    "import numpy as np\n",
    "import pandas as pd\n",
    "import seaborn as sns\n",
    "import matplotlib.pyplot as plt\n",
    "import matplotlib.patches as patches\n",
    "\n",
    "from PIL import Image\n",
    "from urllib import request\n",
    "\n",
    "sys.path.append(\"../\")\n",
    "import cabutils"
   ]
  },
  {
   "cell_type": "code",
   "execution_count": 41,
   "metadata": {},
   "outputs": [],
   "source": [
    "projName = \"mlve\"\n",
    "experimentName = \"gestalt_shapegen_object-loc\"\n",
    "iterName = \"72122_gestalt_shapegen\"\n",
    "S3_BUCKET_NAME = \"gestalt-scenes\""
   ]
  },
  {
   "cell_type": "markdown",
   "metadata": {},
   "source": [
    "# Downloading data from ec2 server (mostly just instructions for thomas)\n",
    "\n",
    "In `settings.conf` change the `MONGODB_PORT` to 8000, and the `MONGODB_HOST` to `localhost`. Then run the ssh port into the ec2 server: \n",
    "\n",
    "```\n",
    "ssh -i path/to/pem/key/maybe-named-something-like/Cocosci_WebExperiments.pem -fNL 8000:localhost:27017 ubuntu@ec2-54-91-252-25.compute-1.amazonaws.com\n",
    "```\n",
    "\n",
    "Change the path to the pem key, but otherwise this should all stay the same."
   ]
  },
  {
   "cell_type": "code",
   "execution_count": 42,
   "metadata": {},
   "outputs": [
    {
     "name": "stdout",
     "output_type": "stream",
     "text": [
      "Checking database connection...\n",
      "Connection established!\n"
     ]
    }
   ],
   "source": [
    "conn = cabutils.get_db_connection()\n",
    "db = conn[projName + \"_outputs\"]\n",
    "col = db[experimentName]"
   ]
  },
  {
   "cell_type": "code",
   "execution_count": 43,
   "metadata": {},
   "outputs": [
    {
     "data": {
      "text/html": [
       "<div>\n",
       "<style scoped>\n",
       "    .dataframe tbody tr th:only-of-type {\n",
       "        vertical-align: middle;\n",
       "    }\n",
       "\n",
       "    .dataframe tbody tr th {\n",
       "        vertical-align: top;\n",
       "    }\n",
       "\n",
       "    .dataframe thead th {\n",
       "        text-align: right;\n",
       "    }\n",
       "</style>\n",
       "<table border=\"1\" class=\"dataframe\">\n",
       "  <thead>\n",
       "    <tr style=\"text-align: right;\">\n",
       "      <th></th>\n",
       "      <th>_id</th>\n",
       "      <th>image_url</th>\n",
       "      <th>probe_touching</th>\n",
       "      <th>probe_location</th>\n",
       "      <th>gt_bounding_box</th>\n",
       "      <th>mask_idx</th>\n",
       "      <th>mask_val</th>\n",
       "      <th>meta</th>\n",
       "      <th>is_duplicate</th>\n",
       "      <th>attention_check</th>\n",
       "      <th>...</th>\n",
       "      <th>time_elapsed</th>\n",
       "      <th>internal_node_id</th>\n",
       "      <th>gameid</th>\n",
       "      <th>iterationName</th>\n",
       "      <th>inputid</th>\n",
       "      <th>projName</th>\n",
       "      <th>expName</th>\n",
       "      <th>sessionID</th>\n",
       "      <th>studyID</th>\n",
       "      <th>userID</th>\n",
       "    </tr>\n",
       "  </thead>\n",
       "  <tbody>\n",
       "    <tr>\n",
       "      <th>0</th>\n",
       "      <td>62d9a356d72a4a05052b74af</td>\n",
       "      <td>https://mlve-v1.s3.us-east-2.amazonaws.com/ges...</td>\n",
       "      <td>True</td>\n",
       "      <td>[340, 244]</td>\n",
       "      <td>[[289, 219], [462, 389]]</td>\n",
       "      <td>0.0</td>\n",
       "      <td>0.0</td>\n",
       "      <td>{}</td>\n",
       "      <td>False</td>\n",
       "      <td>False</td>\n",
       "      <td>...</td>\n",
       "      <td>431978</td>\n",
       "      <td>0.0-9.0</td>\n",
       "      <td>5596-70eb1b25-a9e0-48e2-afb3-75ea35acecb0</td>\n",
       "      <td>72122_gestalt_shapegen</td>\n",
       "      <td>None</td>\n",
       "      <td>mlve</td>\n",
       "      <td>gestalt_shapegen_object-loc</td>\n",
       "      <td>62d9a18ce2e8f001376986ae</td>\n",
       "      <td>62d9a1239f22765e27c5d31d</td>\n",
       "      <td>5f3d0d26b54d1abf0f2fd31f</td>\n",
       "    </tr>\n",
       "    <tr>\n",
       "      <th>1</th>\n",
       "      <td>62d9a35dd72a4a05052b74c3</td>\n",
       "      <td>https://mlve-v1.s3.us-east-2.amazonaws.com/ges...</td>\n",
       "      <td>False</td>\n",
       "      <td>[101, 346]</td>\n",
       "      <td>[]</td>\n",
       "      <td>0.0</td>\n",
       "      <td>0.0</td>\n",
       "      <td>{}</td>\n",
       "      <td>False</td>\n",
       "      <td>False</td>\n",
       "      <td>...</td>\n",
       "      <td>438691</td>\n",
       "      <td>0.0-10.0</td>\n",
       "      <td>5596-70eb1b25-a9e0-48e2-afb3-75ea35acecb0</td>\n",
       "      <td>72122_gestalt_shapegen</td>\n",
       "      <td>None</td>\n",
       "      <td>mlve</td>\n",
       "      <td>gestalt_shapegen_object-loc</td>\n",
       "      <td>62d9a18ce2e8f001376986ae</td>\n",
       "      <td>62d9a1239f22765e27c5d31d</td>\n",
       "      <td>5f3d0d26b54d1abf0f2fd31f</td>\n",
       "    </tr>\n",
       "    <tr>\n",
       "      <th>2</th>\n",
       "      <td>62d9a369d72a4a05052b74d8</td>\n",
       "      <td>https://mlve-v1.s3.us-east-2.amazonaws.com/ges...</td>\n",
       "      <td>False</td>\n",
       "      <td>[466, 379]</td>\n",
       "      <td>[]</td>\n",
       "      <td>0.0</td>\n",
       "      <td>0.0</td>\n",
       "      <td>{}</td>\n",
       "      <td>False</td>\n",
       "      <td>False</td>\n",
       "      <td>...</td>\n",
       "      <td>450852</td>\n",
       "      <td>0.0-11.0</td>\n",
       "      <td>5596-70eb1b25-a9e0-48e2-afb3-75ea35acecb0</td>\n",
       "      <td>72122_gestalt_shapegen</td>\n",
       "      <td>None</td>\n",
       "      <td>mlve</td>\n",
       "      <td>gestalt_shapegen_object-loc</td>\n",
       "      <td>62d9a18ce2e8f001376986ae</td>\n",
       "      <td>62d9a1239f22765e27c5d31d</td>\n",
       "      <td>5f3d0d26b54d1abf0f2fd31f</td>\n",
       "    </tr>\n",
       "    <tr>\n",
       "      <th>3</th>\n",
       "      <td>62d9a37fd72a4a05052b7515</td>\n",
       "      <td>https://mlve-v1.s3.us-east-2.amazonaws.com/ges...</td>\n",
       "      <td>True</td>\n",
       "      <td>[189, 221]</td>\n",
       "      <td>[[43, 102], [340, 339]]</td>\n",
       "      <td>0.0</td>\n",
       "      <td>0.0</td>\n",
       "      <td>{}</td>\n",
       "      <td>False</td>\n",
       "      <td>False</td>\n",
       "      <td>...</td>\n",
       "      <td>473066</td>\n",
       "      <td>0.0-12.0</td>\n",
       "      <td>5596-70eb1b25-a9e0-48e2-afb3-75ea35acecb0</td>\n",
       "      <td>72122_gestalt_shapegen</td>\n",
       "      <td>None</td>\n",
       "      <td>mlve</td>\n",
       "      <td>gestalt_shapegen_object-loc</td>\n",
       "      <td>62d9a18ce2e8f001376986ae</td>\n",
       "      <td>62d9a1239f22765e27c5d31d</td>\n",
       "      <td>5f3d0d26b54d1abf0f2fd31f</td>\n",
       "    </tr>\n",
       "    <tr>\n",
       "      <th>4</th>\n",
       "      <td>62d9a383d72a4a05052b751b</td>\n",
       "      <td>https://mlve-v1.s3.us-east-2.amazonaws.com/ges...</td>\n",
       "      <td>False</td>\n",
       "      <td>[86, 258]</td>\n",
       "      <td>[]</td>\n",
       "      <td>0.0</td>\n",
       "      <td>0.0</td>\n",
       "      <td>{}</td>\n",
       "      <td>False</td>\n",
       "      <td>False</td>\n",
       "      <td>...</td>\n",
       "      <td>477057</td>\n",
       "      <td>0.0-13.0</td>\n",
       "      <td>5596-70eb1b25-a9e0-48e2-afb3-75ea35acecb0</td>\n",
       "      <td>72122_gestalt_shapegen</td>\n",
       "      <td>None</td>\n",
       "      <td>mlve</td>\n",
       "      <td>gestalt_shapegen_object-loc</td>\n",
       "      <td>62d9a18ce2e8f001376986ae</td>\n",
       "      <td>62d9a1239f22765e27c5d31d</td>\n",
       "      <td>5f3d0d26b54d1abf0f2fd31f</td>\n",
       "    </tr>\n",
       "    <tr>\n",
       "      <th>5</th>\n",
       "      <td>62d9a393d72a4a05052b7547</td>\n",
       "      <td>https://mlve-v1.s3.us-east-2.amazonaws.com/ges...</td>\n",
       "      <td>False</td>\n",
       "      <td>[442, 354]</td>\n",
       "      <td>[]</td>\n",
       "      <td>0.0</td>\n",
       "      <td>0.0</td>\n",
       "      <td>{}</td>\n",
       "      <td>False</td>\n",
       "      <td>False</td>\n",
       "      <td>...</td>\n",
       "      <td>493280</td>\n",
       "      <td>0.0-14.0</td>\n",
       "      <td>5596-70eb1b25-a9e0-48e2-afb3-75ea35acecb0</td>\n",
       "      <td>72122_gestalt_shapegen</td>\n",
       "      <td>None</td>\n",
       "      <td>mlve</td>\n",
       "      <td>gestalt_shapegen_object-loc</td>\n",
       "      <td>62d9a18ce2e8f001376986ae</td>\n",
       "      <td>62d9a1239f22765e27c5d31d</td>\n",
       "      <td>5f3d0d26b54d1abf0f2fd31f</td>\n",
       "    </tr>\n",
       "    <tr>\n",
       "      <th>6</th>\n",
       "      <td>62d9a3a5d72a4a05052b7574</td>\n",
       "      <td>https://mlve-v1.s3.us-east-2.amazonaws.com/ges...</td>\n",
       "      <td>True</td>\n",
       "      <td>[324, 317]</td>\n",
       "      <td>[[211, 242], [380, 492]]</td>\n",
       "      <td>0.0</td>\n",
       "      <td>0.0</td>\n",
       "      <td>{}</td>\n",
       "      <td>False</td>\n",
       "      <td>False</td>\n",
       "      <td>...</td>\n",
       "      <td>510640</td>\n",
       "      <td>0.0-15.0</td>\n",
       "      <td>5596-70eb1b25-a9e0-48e2-afb3-75ea35acecb0</td>\n",
       "      <td>72122_gestalt_shapegen</td>\n",
       "      <td>None</td>\n",
       "      <td>mlve</td>\n",
       "      <td>gestalt_shapegen_object-loc</td>\n",
       "      <td>62d9a18ce2e8f001376986ae</td>\n",
       "      <td>62d9a1239f22765e27c5d31d</td>\n",
       "      <td>5f3d0d26b54d1abf0f2fd31f</td>\n",
       "    </tr>\n",
       "    <tr>\n",
       "      <th>7</th>\n",
       "      <td>62d9a3b5d72a4a05052b759c</td>\n",
       "      <td>https://mlve-v1.s3.us-east-2.amazonaws.com/ges...</td>\n",
       "      <td>False</td>\n",
       "      <td>[172, 392]</td>\n",
       "      <td>[]</td>\n",
       "      <td>0.0</td>\n",
       "      <td>0.0</td>\n",
       "      <td>{}</td>\n",
       "      <td>False</td>\n",
       "      <td>False</td>\n",
       "      <td>...</td>\n",
       "      <td>526557</td>\n",
       "      <td>0.0-16.0</td>\n",
       "      <td>5596-70eb1b25-a9e0-48e2-afb3-75ea35acecb0</td>\n",
       "      <td>72122_gestalt_shapegen</td>\n",
       "      <td>None</td>\n",
       "      <td>mlve</td>\n",
       "      <td>gestalt_shapegen_object-loc</td>\n",
       "      <td>62d9a18ce2e8f001376986ae</td>\n",
       "      <td>62d9a1239f22765e27c5d31d</td>\n",
       "      <td>5f3d0d26b54d1abf0f2fd31f</td>\n",
       "    </tr>\n",
       "    <tr>\n",
       "      <th>8</th>\n",
       "      <td>62d9a3c1d72a4a05052b75bb</td>\n",
       "      <td>https://mlve-v1.s3.us-east-2.amazonaws.com/ges...</td>\n",
       "      <td>False</td>\n",
       "      <td>[229, 311]</td>\n",
       "      <td>[]</td>\n",
       "      <td>0.0</td>\n",
       "      <td>0.0</td>\n",
       "      <td>{}</td>\n",
       "      <td>False</td>\n",
       "      <td>False</td>\n",
       "      <td>...</td>\n",
       "      <td>539422</td>\n",
       "      <td>0.0-17.0</td>\n",
       "      <td>5596-70eb1b25-a9e0-48e2-afb3-75ea35acecb0</td>\n",
       "      <td>72122_gestalt_shapegen</td>\n",
       "      <td>None</td>\n",
       "      <td>mlve</td>\n",
       "      <td>gestalt_shapegen_object-loc</td>\n",
       "      <td>62d9a18ce2e8f001376986ae</td>\n",
       "      <td>62d9a1239f22765e27c5d31d</td>\n",
       "      <td>5f3d0d26b54d1abf0f2fd31f</td>\n",
       "    </tr>\n",
       "    <tr>\n",
       "      <th>9</th>\n",
       "      <td>62d9a3ddd72a4a05052b7601</td>\n",
       "      <td>https://mlve-v1.s3.us-east-2.amazonaws.com/ges...</td>\n",
       "      <td>True</td>\n",
       "      <td>[281, 328]</td>\n",
       "      <td>[[190, 242], [353, 373]]</td>\n",
       "      <td>0.0</td>\n",
       "      <td>0.0</td>\n",
       "      <td>{}</td>\n",
       "      <td>False</td>\n",
       "      <td>False</td>\n",
       "      <td>...</td>\n",
       "      <td>567514</td>\n",
       "      <td>0.0-18.0</td>\n",
       "      <td>5596-70eb1b25-a9e0-48e2-afb3-75ea35acecb0</td>\n",
       "      <td>72122_gestalt_shapegen</td>\n",
       "      <td>None</td>\n",
       "      <td>mlve</td>\n",
       "      <td>gestalt_shapegen_object-loc</td>\n",
       "      <td>62d9a18ce2e8f001376986ae</td>\n",
       "      <td>62d9a1239f22765e27c5d31d</td>\n",
       "      <td>5f3d0d26b54d1abf0f2fd31f</td>\n",
       "    </tr>\n",
       "  </tbody>\n",
       "</table>\n",
       "<p>10 rows × 28 columns</p>\n",
       "</div>"
      ],
      "text/plain": [
       "                        _id  \\\n",
       "0  62d9a356d72a4a05052b74af   \n",
       "1  62d9a35dd72a4a05052b74c3   \n",
       "2  62d9a369d72a4a05052b74d8   \n",
       "3  62d9a37fd72a4a05052b7515   \n",
       "4  62d9a383d72a4a05052b751b   \n",
       "5  62d9a393d72a4a05052b7547   \n",
       "6  62d9a3a5d72a4a05052b7574   \n",
       "7  62d9a3b5d72a4a05052b759c   \n",
       "8  62d9a3c1d72a4a05052b75bb   \n",
       "9  62d9a3ddd72a4a05052b7601   \n",
       "\n",
       "                                           image_url probe_touching  \\\n",
       "0  https://mlve-v1.s3.us-east-2.amazonaws.com/ges...           True   \n",
       "1  https://mlve-v1.s3.us-east-2.amazonaws.com/ges...          False   \n",
       "2  https://mlve-v1.s3.us-east-2.amazonaws.com/ges...          False   \n",
       "3  https://mlve-v1.s3.us-east-2.amazonaws.com/ges...           True   \n",
       "4  https://mlve-v1.s3.us-east-2.amazonaws.com/ges...          False   \n",
       "5  https://mlve-v1.s3.us-east-2.amazonaws.com/ges...          False   \n",
       "6  https://mlve-v1.s3.us-east-2.amazonaws.com/ges...           True   \n",
       "7  https://mlve-v1.s3.us-east-2.amazonaws.com/ges...          False   \n",
       "8  https://mlve-v1.s3.us-east-2.amazonaws.com/ges...          False   \n",
       "9  https://mlve-v1.s3.us-east-2.amazonaws.com/ges...           True   \n",
       "\n",
       "  probe_location           gt_bounding_box  mask_idx  mask_val meta  \\\n",
       "0     [340, 244]  [[289, 219], [462, 389]]       0.0       0.0   {}   \n",
       "1     [101, 346]                        []       0.0       0.0   {}   \n",
       "2     [466, 379]                        []       0.0       0.0   {}   \n",
       "3     [189, 221]   [[43, 102], [340, 339]]       0.0       0.0   {}   \n",
       "4      [86, 258]                        []       0.0       0.0   {}   \n",
       "5     [442, 354]                        []       0.0       0.0   {}   \n",
       "6     [324, 317]  [[211, 242], [380, 492]]       0.0       0.0   {}   \n",
       "7     [172, 392]                        []       0.0       0.0   {}   \n",
       "8     [229, 311]                        []       0.0       0.0   {}   \n",
       "9     [281, 328]  [[190, 242], [353, 373]]       0.0       0.0   {}   \n",
       "\n",
       "  is_duplicate attention_check  ...  time_elapsed  internal_node_id  \\\n",
       "0        False           False  ...        431978           0.0-9.0   \n",
       "1        False           False  ...        438691          0.0-10.0   \n",
       "2        False           False  ...        450852          0.0-11.0   \n",
       "3        False           False  ...        473066          0.0-12.0   \n",
       "4        False           False  ...        477057          0.0-13.0   \n",
       "5        False           False  ...        493280          0.0-14.0   \n",
       "6        False           False  ...        510640          0.0-15.0   \n",
       "7        False           False  ...        526557          0.0-16.0   \n",
       "8        False           False  ...        539422          0.0-17.0   \n",
       "9        False           False  ...        567514          0.0-18.0   \n",
       "\n",
       "                                      gameid           iterationName inputid  \\\n",
       "0  5596-70eb1b25-a9e0-48e2-afb3-75ea35acecb0  72122_gestalt_shapegen    None   \n",
       "1  5596-70eb1b25-a9e0-48e2-afb3-75ea35acecb0  72122_gestalt_shapegen    None   \n",
       "2  5596-70eb1b25-a9e0-48e2-afb3-75ea35acecb0  72122_gestalt_shapegen    None   \n",
       "3  5596-70eb1b25-a9e0-48e2-afb3-75ea35acecb0  72122_gestalt_shapegen    None   \n",
       "4  5596-70eb1b25-a9e0-48e2-afb3-75ea35acecb0  72122_gestalt_shapegen    None   \n",
       "5  5596-70eb1b25-a9e0-48e2-afb3-75ea35acecb0  72122_gestalt_shapegen    None   \n",
       "6  5596-70eb1b25-a9e0-48e2-afb3-75ea35acecb0  72122_gestalt_shapegen    None   \n",
       "7  5596-70eb1b25-a9e0-48e2-afb3-75ea35acecb0  72122_gestalt_shapegen    None   \n",
       "8  5596-70eb1b25-a9e0-48e2-afb3-75ea35acecb0  72122_gestalt_shapegen    None   \n",
       "9  5596-70eb1b25-a9e0-48e2-afb3-75ea35acecb0  72122_gestalt_shapegen    None   \n",
       "\n",
       "  projName                      expName                 sessionID  \\\n",
       "0     mlve  gestalt_shapegen_object-loc  62d9a18ce2e8f001376986ae   \n",
       "1     mlve  gestalt_shapegen_object-loc  62d9a18ce2e8f001376986ae   \n",
       "2     mlve  gestalt_shapegen_object-loc  62d9a18ce2e8f001376986ae   \n",
       "3     mlve  gestalt_shapegen_object-loc  62d9a18ce2e8f001376986ae   \n",
       "4     mlve  gestalt_shapegen_object-loc  62d9a18ce2e8f001376986ae   \n",
       "5     mlve  gestalt_shapegen_object-loc  62d9a18ce2e8f001376986ae   \n",
       "6     mlve  gestalt_shapegen_object-loc  62d9a18ce2e8f001376986ae   \n",
       "7     mlve  gestalt_shapegen_object-loc  62d9a18ce2e8f001376986ae   \n",
       "8     mlve  gestalt_shapegen_object-loc  62d9a18ce2e8f001376986ae   \n",
       "9     mlve  gestalt_shapegen_object-loc  62d9a18ce2e8f001376986ae   \n",
       "\n",
       "                    studyID                    userID  \n",
       "0  62d9a1239f22765e27c5d31d  5f3d0d26b54d1abf0f2fd31f  \n",
       "1  62d9a1239f22765e27c5d31d  5f3d0d26b54d1abf0f2fd31f  \n",
       "2  62d9a1239f22765e27c5d31d  5f3d0d26b54d1abf0f2fd31f  \n",
       "3  62d9a1239f22765e27c5d31d  5f3d0d26b54d1abf0f2fd31f  \n",
       "4  62d9a1239f22765e27c5d31d  5f3d0d26b54d1abf0f2fd31f  \n",
       "5  62d9a1239f22765e27c5d31d  5f3d0d26b54d1abf0f2fd31f  \n",
       "6  62d9a1239f22765e27c5d31d  5f3d0d26b54d1abf0f2fd31f  \n",
       "7  62d9a1239f22765e27c5d31d  5f3d0d26b54d1abf0f2fd31f  \n",
       "8  62d9a1239f22765e27c5d31d  5f3d0d26b54d1abf0f2fd31f  \n",
       "9  62d9a1239f22765e27c5d31d  5f3d0d26b54d1abf0f2fd31f  \n",
       "\n",
       "[10 rows x 28 columns]"
      ]
     },
     "execution_count": 43,
     "metadata": {},
     "output_type": "execute_result"
    }
   ],
   "source": [
    "def results_to_df():\n",
    "    results = []\n",
    "    cursor = col.find({})\n",
    "    for document in cursor:\n",
    "        results.append(document)\n",
    "    \n",
    "    df = pd.DataFrame(results)\n",
    "    return df\n",
    "\n",
    "df = results_to_df()\n",
    "df.head(10)"
   ]
  },
  {
   "cell_type": "code",
   "execution_count": 44,
   "metadata": {},
   "outputs": [],
   "source": [
    "def download_from_s3(url, resource_type=\"image\"):\n",
    "    s3 = boto3.resource('s3', region_name=\"us-east-2\")\n",
    "    bucket = s3.Bucket(S3_BUCKET_NAME)\n",
    "    item = bucket.Object(url)\n",
    "    if resource_type == \"image\":\n",
    "        file_stream = io.BytesIO()\n",
    "        item.download_fileobj(file_stream)\n",
    "        img = Image.open(file_stream)\n",
    "        return img\n",
    "    \n",
    "    else:\n",
    "        return item"
   ]
  },
  {
   "cell_type": "code",
   "execution_count": 45,
   "metadata": {},
   "outputs": [],
   "source": [
    "def download_from_url(url):\n",
    "    obj = request.urlretrieve(url)\n",
    "    image = Image.open(obj[0])\n",
    "    return image"
   ]
  },
  {
   "cell_type": "code",
   "execution_count": 46,
   "metadata": {},
   "outputs": [],
   "source": [
    "def process_box(box):\n",
    "    \"\"\"\n",
    "    Expects box as a tuple, of start stop points. Returns it as: [minX, minY, maxX, maxY]\n",
    "    \"\"\"\n",
    "    minX = min(box[0][0], box[1][0])\n",
    "    maxX = max(box[0][0], box[1][0])\n",
    "    \n",
    "    minY = min(box[0][1], box[1][1])\n",
    "    maxY = max(box[0][1], box[1][1])\n",
    "    \n",
    "    return [int(minX), int(minY), int(maxX), int(maxY)]\n",
    "\n",
    "def calc_mIOU(box_a, box_b, epsilon=1e-8):\n",
    "    if not box_a and not box_b:\n",
    "        return float(\"nan\")\n",
    "    if not box_a or not box_a:\n",
    "        return 0\n",
    "    \n",
    "    if len(box_a) < 4:\n",
    "        a = process_box(box_a)\n",
    "    else:\n",
    "        a = box_a\n",
    "    \n",
    "    if len(box_b) < 4:\n",
    "        b = process_box(box_b)\n",
    "    else:\n",
    "        b = box_b\n",
    "        \n",
    "    # return np.sqrt((a[0] - b[0]) ** 2 + (a[1] - b[1]) ** 2)\n",
    "\n",
    "    # COORDINATES OF THE INTERSECTION BOX\n",
    "    \n",
    "    xA = max(a[0], b[0])\n",
    "    yA = max(a[1], b[1])\n",
    "    xB = min(a[2], b[2])\n",
    "    yB = min(a[3], b[3])\n",
    "    \n",
    "    # The intersection of two axis-aligned bounding boxes is always an\n",
    "    # axis-aligned bounding box\n",
    "    intersection_area = max(0, xB - xA + 1) * max(0, yB - yA + 1)\n",
    "\n",
    "    # compute the area of both AABBs\n",
    "    bb1_area = (a[2] - a[0] + 1) * (a[3] - a[1] + 1)\n",
    "    bb2_area = (b[2] - b[0] + 1) * (b[3] - b[1] + 1)\n",
    "    if intersection_area == (bb1_area + bb2_area):\n",
    "        return float('nan')\n",
    "    \n",
    "    # compute the intersection over union by taking the intersection\n",
    "    # area and dividing it by the sum of prediction + ground-truth\n",
    "    # areas - the interesection area\n",
    "    iou = intersection_area / float(bb1_area + bb2_area - intersection_area)\n",
    "    assert iou >= 0.0\n",
    "    assert iou <= 1.0\n",
    "    return iou\n"
   ]
  },
  {
   "cell_type": "code",
   "execution_count": 47,
   "metadata": {},
   "outputs": [],
   "source": [
    "# df.to_csv(EXPERIMENT_NAME + \"-results.csv\")"
   ]
  },
  {
   "cell_type": "code",
   "execution_count": 48,
   "metadata": {},
   "outputs": [
    {
     "data": {
      "text/plain": [
       "0.8917972911276822"
      ]
     },
     "execution_count": 48,
     "metadata": {},
     "output_type": "execute_result"
    }
   ],
   "source": [
    "df[\"correct\"].mean()"
   ]
  },
  {
   "cell_type": "markdown",
   "metadata": {},
   "source": [
    "# Generate cleaned version"
   ]
  },
  {
   "cell_type": "code",
   "execution_count": 49,
   "metadata": {},
   "outputs": [
    {
     "data": {
      "text/html": [
       "<div>\n",
       "<style scoped>\n",
       "    .dataframe tbody tr th:only-of-type {\n",
       "        vertical-align: middle;\n",
       "    }\n",
       "\n",
       "    .dataframe tbody tr th {\n",
       "        vertical-align: top;\n",
       "    }\n",
       "\n",
       "    .dataframe thead th {\n",
       "        text-align: right;\n",
       "    }\n",
       "</style>\n",
       "<table border=\"1\" class=\"dataframe\">\n",
       "  <thead>\n",
       "    <tr style=\"text-align: right;\">\n",
       "      <th></th>\n",
       "      <th>_id</th>\n",
       "      <th>image_url</th>\n",
       "      <th>probe_touching</th>\n",
       "      <th>probe_location</th>\n",
       "      <th>gt_bounding_box</th>\n",
       "      <th>mask_idx</th>\n",
       "      <th>mask_val</th>\n",
       "      <th>meta</th>\n",
       "      <th>is_duplicate</th>\n",
       "      <th>attention_check</th>\n",
       "      <th>...</th>\n",
       "      <th>time_elapsed</th>\n",
       "      <th>internal_node_id</th>\n",
       "      <th>gameid</th>\n",
       "      <th>iterationName</th>\n",
       "      <th>inputid</th>\n",
       "      <th>projName</th>\n",
       "      <th>expName</th>\n",
       "      <th>sessionID</th>\n",
       "      <th>studyID</th>\n",
       "      <th>userID</th>\n",
       "    </tr>\n",
       "  </thead>\n",
       "  <tbody>\n",
       "    <tr>\n",
       "      <th>0</th>\n",
       "      <td>62d9a356d72a4a05052b74af</td>\n",
       "      <td>https://mlve-v1.s3.us-east-2.amazonaws.com/ges...</td>\n",
       "      <td>True</td>\n",
       "      <td>[340, 244]</td>\n",
       "      <td>[[289, 219], [462, 389]]</td>\n",
       "      <td>0.0</td>\n",
       "      <td>0.0</td>\n",
       "      <td>{}</td>\n",
       "      <td>False</td>\n",
       "      <td>False</td>\n",
       "      <td>...</td>\n",
       "      <td>431978</td>\n",
       "      <td>0.0-9.0</td>\n",
       "      <td>5596-70eb1b25-a9e0-48e2-afb3-75ea35acecb0</td>\n",
       "      <td>72122_gestalt_shapegen</td>\n",
       "      <td>None</td>\n",
       "      <td>mlve</td>\n",
       "      <td>gestalt_shapegen_object-loc</td>\n",
       "      <td>62d9a18ce2e8f001376986ae</td>\n",
       "      <td>62d9a1239f22765e27c5d31d</td>\n",
       "      <td>5f3d0d26b54d1abf0f2fd31f</td>\n",
       "    </tr>\n",
       "    <tr>\n",
       "      <th>1</th>\n",
       "      <td>62d9a35dd72a4a05052b74c3</td>\n",
       "      <td>https://mlve-v1.s3.us-east-2.amazonaws.com/ges...</td>\n",
       "      <td>False</td>\n",
       "      <td>[101, 346]</td>\n",
       "      <td>[]</td>\n",
       "      <td>0.0</td>\n",
       "      <td>0.0</td>\n",
       "      <td>{}</td>\n",
       "      <td>False</td>\n",
       "      <td>False</td>\n",
       "      <td>...</td>\n",
       "      <td>438691</td>\n",
       "      <td>0.0-10.0</td>\n",
       "      <td>5596-70eb1b25-a9e0-48e2-afb3-75ea35acecb0</td>\n",
       "      <td>72122_gestalt_shapegen</td>\n",
       "      <td>None</td>\n",
       "      <td>mlve</td>\n",
       "      <td>gestalt_shapegen_object-loc</td>\n",
       "      <td>62d9a18ce2e8f001376986ae</td>\n",
       "      <td>62d9a1239f22765e27c5d31d</td>\n",
       "      <td>5f3d0d26b54d1abf0f2fd31f</td>\n",
       "    </tr>\n",
       "    <tr>\n",
       "      <th>2</th>\n",
       "      <td>62d9a369d72a4a05052b74d8</td>\n",
       "      <td>https://mlve-v1.s3.us-east-2.amazonaws.com/ges...</td>\n",
       "      <td>False</td>\n",
       "      <td>[466, 379]</td>\n",
       "      <td>[]</td>\n",
       "      <td>0.0</td>\n",
       "      <td>0.0</td>\n",
       "      <td>{}</td>\n",
       "      <td>False</td>\n",
       "      <td>False</td>\n",
       "      <td>...</td>\n",
       "      <td>450852</td>\n",
       "      <td>0.0-11.0</td>\n",
       "      <td>5596-70eb1b25-a9e0-48e2-afb3-75ea35acecb0</td>\n",
       "      <td>72122_gestalt_shapegen</td>\n",
       "      <td>None</td>\n",
       "      <td>mlve</td>\n",
       "      <td>gestalt_shapegen_object-loc</td>\n",
       "      <td>62d9a18ce2e8f001376986ae</td>\n",
       "      <td>62d9a1239f22765e27c5d31d</td>\n",
       "      <td>5f3d0d26b54d1abf0f2fd31f</td>\n",
       "    </tr>\n",
       "    <tr>\n",
       "      <th>3</th>\n",
       "      <td>62d9a37fd72a4a05052b7515</td>\n",
       "      <td>https://mlve-v1.s3.us-east-2.amazonaws.com/ges...</td>\n",
       "      <td>True</td>\n",
       "      <td>[189, 221]</td>\n",
       "      <td>[[43, 102], [340, 339]]</td>\n",
       "      <td>0.0</td>\n",
       "      <td>0.0</td>\n",
       "      <td>{}</td>\n",
       "      <td>False</td>\n",
       "      <td>False</td>\n",
       "      <td>...</td>\n",
       "      <td>473066</td>\n",
       "      <td>0.0-12.0</td>\n",
       "      <td>5596-70eb1b25-a9e0-48e2-afb3-75ea35acecb0</td>\n",
       "      <td>72122_gestalt_shapegen</td>\n",
       "      <td>None</td>\n",
       "      <td>mlve</td>\n",
       "      <td>gestalt_shapegen_object-loc</td>\n",
       "      <td>62d9a18ce2e8f001376986ae</td>\n",
       "      <td>62d9a1239f22765e27c5d31d</td>\n",
       "      <td>5f3d0d26b54d1abf0f2fd31f</td>\n",
       "    </tr>\n",
       "    <tr>\n",
       "      <th>4</th>\n",
       "      <td>62d9a383d72a4a05052b751b</td>\n",
       "      <td>https://mlve-v1.s3.us-east-2.amazonaws.com/ges...</td>\n",
       "      <td>False</td>\n",
       "      <td>[86, 258]</td>\n",
       "      <td>[]</td>\n",
       "      <td>0.0</td>\n",
       "      <td>0.0</td>\n",
       "      <td>{}</td>\n",
       "      <td>False</td>\n",
       "      <td>False</td>\n",
       "      <td>...</td>\n",
       "      <td>477057</td>\n",
       "      <td>0.0-13.0</td>\n",
       "      <td>5596-70eb1b25-a9e0-48e2-afb3-75ea35acecb0</td>\n",
       "      <td>72122_gestalt_shapegen</td>\n",
       "      <td>None</td>\n",
       "      <td>mlve</td>\n",
       "      <td>gestalt_shapegen_object-loc</td>\n",
       "      <td>62d9a18ce2e8f001376986ae</td>\n",
       "      <td>62d9a1239f22765e27c5d31d</td>\n",
       "      <td>5f3d0d26b54d1abf0f2fd31f</td>\n",
       "    </tr>\n",
       "  </tbody>\n",
       "</table>\n",
       "<p>5 rows × 28 columns</p>\n",
       "</div>"
      ],
      "text/plain": [
       "                        _id  \\\n",
       "0  62d9a356d72a4a05052b74af   \n",
       "1  62d9a35dd72a4a05052b74c3   \n",
       "2  62d9a369d72a4a05052b74d8   \n",
       "3  62d9a37fd72a4a05052b7515   \n",
       "4  62d9a383d72a4a05052b751b   \n",
       "\n",
       "                                           image_url probe_touching  \\\n",
       "0  https://mlve-v1.s3.us-east-2.amazonaws.com/ges...           True   \n",
       "1  https://mlve-v1.s3.us-east-2.amazonaws.com/ges...          False   \n",
       "2  https://mlve-v1.s3.us-east-2.amazonaws.com/ges...          False   \n",
       "3  https://mlve-v1.s3.us-east-2.amazonaws.com/ges...           True   \n",
       "4  https://mlve-v1.s3.us-east-2.amazonaws.com/ges...          False   \n",
       "\n",
       "  probe_location           gt_bounding_box  mask_idx  mask_val meta  \\\n",
       "0     [340, 244]  [[289, 219], [462, 389]]       0.0       0.0   {}   \n",
       "1     [101, 346]                        []       0.0       0.0   {}   \n",
       "2     [466, 379]                        []       0.0       0.0   {}   \n",
       "3     [189, 221]   [[43, 102], [340, 339]]       0.0       0.0   {}   \n",
       "4      [86, 258]                        []       0.0       0.0   {}   \n",
       "\n",
       "  is_duplicate attention_check  ...  time_elapsed  internal_node_id  \\\n",
       "0        False           False  ...        431978           0.0-9.0   \n",
       "1        False           False  ...        438691          0.0-10.0   \n",
       "2        False           False  ...        450852          0.0-11.0   \n",
       "3        False           False  ...        473066          0.0-12.0   \n",
       "4        False           False  ...        477057          0.0-13.0   \n",
       "\n",
       "                                      gameid           iterationName inputid  \\\n",
       "0  5596-70eb1b25-a9e0-48e2-afb3-75ea35acecb0  72122_gestalt_shapegen    None   \n",
       "1  5596-70eb1b25-a9e0-48e2-afb3-75ea35acecb0  72122_gestalt_shapegen    None   \n",
       "2  5596-70eb1b25-a9e0-48e2-afb3-75ea35acecb0  72122_gestalt_shapegen    None   \n",
       "3  5596-70eb1b25-a9e0-48e2-afb3-75ea35acecb0  72122_gestalt_shapegen    None   \n",
       "4  5596-70eb1b25-a9e0-48e2-afb3-75ea35acecb0  72122_gestalt_shapegen    None   \n",
       "\n",
       "  projName                      expName                 sessionID  \\\n",
       "0     mlve  gestalt_shapegen_object-loc  62d9a18ce2e8f001376986ae   \n",
       "1     mlve  gestalt_shapegen_object-loc  62d9a18ce2e8f001376986ae   \n",
       "2     mlve  gestalt_shapegen_object-loc  62d9a18ce2e8f001376986ae   \n",
       "3     mlve  gestalt_shapegen_object-loc  62d9a18ce2e8f001376986ae   \n",
       "4     mlve  gestalt_shapegen_object-loc  62d9a18ce2e8f001376986ae   \n",
       "\n",
       "                    studyID                    userID  \n",
       "0  62d9a1239f22765e27c5d31d  5f3d0d26b54d1abf0f2fd31f  \n",
       "1  62d9a1239f22765e27c5d31d  5f3d0d26b54d1abf0f2fd31f  \n",
       "2  62d9a1239f22765e27c5d31d  5f3d0d26b54d1abf0f2fd31f  \n",
       "3  62d9a1239f22765e27c5d31d  5f3d0d26b54d1abf0f2fd31f  \n",
       "4  62d9a1239f22765e27c5d31d  5f3d0d26b54d1abf0f2fd31f  \n",
       "\n",
       "[5 rows x 28 columns]"
      ]
     },
     "execution_count": 49,
     "metadata": {},
     "output_type": "execute_result"
    }
   ],
   "source": [
    "df.head()"
   ]
  },
  {
   "cell_type": "markdown",
   "metadata": {},
   "source": [
    "## Let's quickly look at the comments"
   ]
  },
  {
   "cell_type": "code",
   "execution_count": 50,
   "metadata": {},
   "outputs": [
    {
     "name": "stdout",
     "output_type": "stream",
     "text": [
      "['Thank you for the Japanese Macaque!', 'Very good', 'some of the patterns did confuse my eyes slightly and may cause a headache to form , just a note , because i get that the patterns are meant to be confusing', 'Thanks', 'Finish', \"A few of the patterns were much harder to determine than others - also, it would have been nice to have an option to go back, incase of a misclick of 'yes', and then having to draw a random rectangle\", 'No, thanks', 'Finish', 'No', 'All the objects look like Angels from Neon Genesis Evangellion', 'The macques were hilarious and welcome, thank you!', \"I can't think of any!\", 'Ow my brain', 'Really enjoyed this', 'Enjoyable study!', 'no', 'That was fun. It would of been better to draw an outline around the shapes with curves and all rather than just a box. ', '5ee944d1886b7d1b8481387d', 'Very interesting to see how the different backgrounds interacted with the shapes - thanks!', 'no', 'no', 'that was really hard and i have no idea how i done lol but thanks for letting me take part. I enjoyed it. ', 'No comments.', 'Sorry for the misclick that was (I think) 3 before the end, where I drew a tiny box, I meant to click No.', 'very interesting.', 'No comments', 'This was difficult at times but thanks', 'very hard!', 'no', 'interesting study', 'Nothing - thanks']\n"
     ]
    }
   ],
   "source": [
    "all_comments = df[df[\"trial_type\"] == \"survey-text\"][\"response\"]\n",
    "comments = []\n",
    "for response in all_comments:\n",
    "    comm = response[\"Q0\"]\n",
    "    if len(comm) > 0:\n",
    "        comments.append(comm)\n",
    "print(comments)"
   ]
  },
  {
   "cell_type": "code",
   "execution_count": 51,
   "metadata": {},
   "outputs": [
    {
     "name": "stdout",
     "output_type": "stream",
     "text": [
      "<class 'pandas.core.frame.DataFrame'>\n",
      "Int64Index: 6571 entries, 0 to 6650\n",
      "Data columns (total 28 columns):\n",
      " #   Column                Non-Null Count  Dtype  \n",
      "---  ------                --------------  -----  \n",
      " 0   _id                   6571 non-null   object \n",
      " 1   image_url             6571 non-null   object \n",
      " 2   probe_touching        6571 non-null   object \n",
      " 3   probe_location        6571 non-null   object \n",
      " 4   gt_bounding_box       6571 non-null   object \n",
      " 5   mask_idx              6571 non-null   float64\n",
      " 6   mask_val              6571 non-null   float64\n",
      " 7   meta                  6571 non-null   object \n",
      " 8   is_duplicate          6571 non-null   object \n",
      " 9   attention_check       6571 non-null   object \n",
      " 10  batch_num             6571 non-null   float64\n",
      " 11  rt                    6571 non-null   int64  \n",
      " 12  stimulus              6571 non-null   object \n",
      " 13  response              6571 non-null   object \n",
      " 14  correct               6571 non-null   object \n",
      " 15  subject_bounding_box  6571 non-null   object \n",
      " 16  trial_type            6571 non-null   object \n",
      " 17  trial_index           6571 non-null   int64  \n",
      " 18  time_elapsed          6571 non-null   int64  \n",
      " 19  internal_node_id      6571 non-null   object \n",
      " 20  gameid                6571 non-null   object \n",
      " 21  iterationName         6571 non-null   object \n",
      " 22  inputid               0 non-null      object \n",
      " 23  projName              6571 non-null   object \n",
      " 24  expName               6571 non-null   object \n",
      " 25  sessionID             6571 non-null   object \n",
      " 26  studyID               6571 non-null   object \n",
      " 27  userID                6571 non-null   object \n",
      "dtypes: float64(3), int64(3), object(22)\n",
      "memory usage: 1.5+ MB\n"
     ]
    }
   ],
   "source": [
    "df.drop(df[df[\"trial_type\"] != \"object-localization-task\"].index, inplace=True)\n",
    "df.info()"
   ]
  },
  {
   "cell_type": "code",
   "execution_count": 60,
   "metadata": {},
   "outputs": [
    {
     "name": "stdout",
     "output_type": "stream",
     "text": [
      "USER ID: 5eb29fdddac67500082c1089 scored 0.4691358024691358\n",
      "USER ID: 60ae4319bf058958a5dedcc6 scored 0.48148148148148145\n",
      "USER ID: 60fb323fd098c157e1e985ae scored 0.4691358024691358\n",
      "USER ID: 62ac80c7bb52b8c5e8ba266d scored 0.4567901234567901\n",
      "USER ID: 62d989d7c133a0fdc2301666 only completed: 12 trials\n",
      "['5eb29fdddac67500082c1089', '60ae4319bf058958a5dedcc6', '60fb323fd098c157e1e985ae', '62ac80c7bb52b8c5e8ba266d', '62d989d7c133a0fdc2301666']\n"
     ]
    }
   ],
   "source": [
    "participants = df.groupby(\"userID\")\n",
    "participants_failed = []\n",
    "i = 0 \n",
    "n_trials = 81\n",
    "score_threshold = 0.5\n",
    "\n",
    "\n",
    "for index, user_results in participants:\n",
    "    i += 1\n",
    "    trials_finished = len(user_results)\n",
    "    if trials_finished < n_trials - 10:\n",
    "        print(\"USER ID: \" + user_results[\"userID\"].iloc[0] + \" only completed: \" + str(trials_finished) + \" trials\")\n",
    "        participants_failed.append(user_results[\"userID\"].iloc[0])\n",
    "        continue\n",
    "    \n",
    "    correct_score = user_results[\"correct\"].mean()\n",
    "    if correct_score < score_threshold:\n",
    "        print(\"USER ID: \" + user_results[\"userID\"].iloc[0] + \" scored \" + str(correct_score))\n",
    "        participants_failed.append(user_results[\"userID\"].iloc[0])\n",
    "        continue\n",
    "        \n",
    "#     attention_checks = user_results[user_results[\"stimulus\"].str.contains(\"ground_truth\")]\n",
    "#     if attention_checks[\"correct\"].sum() < 2:\n",
    "#         print(\"USER ID: \" + user_results[\"userID\"].iloc[0] + \" faled too many attention checks\")\n",
    "#         participants_failed.append(user_results[\"userID\"].iloc[0])\n",
    "\n",
    "# participants_failed.append(\"60cb62a4e099dcbffe591021\")\n",
    "# participants_failed.append(\"5ec3d06016290204b072564d\")\n",
    "print(participants_failed)"
   ]
  },
  {
   "cell_type": "code",
   "execution_count": 62,
   "metadata": {},
   "outputs": [],
   "source": [
    "remove_failure_cases = False"
   ]
  },
  {
   "cell_type": "code",
   "execution_count": 63,
   "metadata": {},
   "outputs": [],
   "source": [
    "if remove_failure_cases:\n",
    "    failed_participants = df[\"userID\"].apply(lambda x: x in participants_failed)\n",
    "    df = df[~failed_participants]\n",
    "    attention_checks = df[\"stimulus\"].apply(lambda x: \"ground_truth\" in x)\n",
    "    df = df[~attention_checks]"
   ]
  },
  {
   "cell_type": "code",
   "execution_count": null,
   "metadata": {},
   "outputs": [],
   "source": [
    "len(df[df[\"texture_name\"] == \"\"])"
   ]
  },
  {
   "cell_type": "markdown",
   "metadata": {},
   "source": [
    "# Create directory for figures"
   ]
  },
  {
   "cell_type": "code",
   "execution_count": null,
   "metadata": {},
   "outputs": [],
   "source": [
    "if not os.path.exists(f\"figures/{experimentName}\"):\n",
    "    os.makedirs(f\"figures/{experimentName}\")"
   ]
  },
  {
   "cell_type": "markdown",
   "metadata": {},
   "source": [
    "## Create texture_name column"
   ]
  },
  {
   "cell_type": "code",
   "execution_count": null,
   "metadata": {},
   "outputs": [],
   "source": [
    "df[\"texture_name\"] = df[\"stimulus\"].apply(lambda x: x.split(\".com/\")[1].split(\"/\")[0].split(\"_\")[1])\n",
    "df[\"texture_name\"] = df[\"texture_name\"].apply(lambda x: \"Dots\" if x == \"voronoi\" else x.capitalize())"
   ]
  },
  {
   "cell_type": "code",
   "execution_count": 64,
   "metadata": {},
   "outputs": [],
   "source": [
    "ious = []\n",
    "for index, row in df.iterrows():\n",
    "    gtbb = row[\"gt_bounding_box\"]\n",
    "    if type(gtbb) == str:\n",
    "        gtbb = str_to_list(gtbb)\n",
    "    ubb = row[\"subject_bounding_box\"]\n",
    "    if type(ubb) == str:\n",
    "        ubb = str_to_list(ubb)\n",
    "\n",
    "    if (not ubb and not gtbb) or (ubb and not gtbb):\n",
    "        ious.append(float(\"nan\"))\n",
    "        continue \n",
    "\n",
    "    elif (not ubb and gtbb):\n",
    "        ious.append(0)\n",
    "        continue\n",
    "\n",
    "    else:\n",
    "        iou = calc_mIOU(gtbb, ubb)\n",
    "        ious.append(iou)\n",
    "\n",
    "df[\"miou\"] = ious"
   ]
  },
  {
   "cell_type": "code",
   "execution_count": 71,
   "metadata": {},
   "outputs": [],
   "source": [
    "user_means = df.groupby(\"userID\")[\"miou\"].mean()\n",
    "low_miou = user_means[user_means < 0.2]\n",
    "low_miou_user_ids = [x for x in low_miou.keys()]\n",
    "all_participants_failed = low_miou_user_ids"
   ]
  },
  {
   "cell_type": "code",
   "execution_count": 72,
   "metadata": {},
   "outputs": [
    {
     "data": {
      "text/plain": [
       "['5eb29fdddac67500082c1089',\n",
       " '60ae4319bf058958a5dedcc6',\n",
       " '60fb323fd098c157e1e985ae',\n",
       " '62ac80c7bb52b8c5e8ba266d',\n",
       " '62d989d7c133a0fdc2301666']"
      ]
     },
     "execution_count": 72,
     "metadata": {},
     "output_type": "execute_result"
    }
   ],
   "source": [
    "participants_failed"
   ]
  },
  {
   "cell_type": "code",
   "execution_count": 73,
   "metadata": {},
   "outputs": [
    {
     "data": {
      "text/plain": [
       "['62ac80c7bb52b8c5e8ba266d']"
      ]
     },
     "execution_count": 73,
     "metadata": {},
     "output_type": "execute_result"
    }
   ],
   "source": [
    "low_miou_user_ids"
   ]
  },
  {
   "cell_type": "code",
   "execution_count": 68,
   "metadata": {},
   "outputs": [
    {
     "data": {
      "text/plain": [
       "['5eb29fdddac67500082c1089',\n",
       " '60ae4319bf058958a5dedcc6',\n",
       " '60fb323fd098c157e1e985ae',\n",
       " '62ac80c7bb52b8c5e8ba266d',\n",
       " '62d989d7c133a0fdc2301666',\n",
       " '5eb29fdddac67500082c1089',\n",
       " '60fb323fd098c157e1e985ae',\n",
       " '62ac80c7bb52b8c5e8ba266d']"
      ]
     },
     "execution_count": 68,
     "metadata": {},
     "output_type": "execute_result"
    }
   ],
   "source": [
    "all_participants_failed"
   ]
  },
  {
   "cell_type": "code",
   "execution_count": 74,
   "metadata": {},
   "outputs": [
    {
     "data": {
      "image/png": "[encoded data removed]",
      "text/plain": [
       "<Figure size 432x288 with 1 Axes>"
      ]
     },
     "metadata": {
      "needs_background": "light"
     },
     "output_type": "display_data"
    }
   ],
   "source": [
    "g = sns.barplot(y=\"miou\", x=\"userID\", data=df)\n",
    "g.set(xticklabels=[])\n",
    "plt.show()"
   ]
  },
  {
   "cell_type": "code",
   "execution_count": 75,
   "metadata": {},
   "outputs": [
    {
     "data": {
      "text/plain": [
       "0.5553013631151564"
      ]
     },
     "execution_count": 75,
     "metadata": {},
     "output_type": "execute_result"
    }
   ],
   "source": [
    "df[\"miou\"].mean()"
   ]
  },
  {
   "cell_type": "code",
   "execution_count": 78,
   "metadata": {},
   "outputs": [
    {
     "data": {
      "text/plain": [
       "Text(0.5, 1.0, 'Participant accuracy')"
      ]
     },
     "execution_count": 78,
     "metadata": {},
     "output_type": "execute_result"
    },
    {
     "data": {
      "image/png": "[encoded data removed]",
      "text/plain": [
       "<Figure size 864x576 with 1 Axes>"
      ]
     },
     "metadata": {
      "needs_background": "light"
     },
     "output_type": "display_data"
    }
   ],
   "source": [
    "accuracies = []\n",
    "textures = []\n",
    "target = \"userID\"\n",
    "challenging_stimuli = []\n",
    "for index, trials in df.groupby(target): \n",
    "    accuracy = trials[\"correct\"].mean()\n",
    "    \n",
    "    if accuracy < 0.5:\n",
    "        challenging_stimuli.append((accuracy, trials[\"stimulus\"].iloc[0]))\n",
    "    accuracies.append(accuracy)\n",
    "    \n",
    "    \n",
    "figure = plt.figure(figsize=(12,8))\n",
    "sns.histplot(x=accuracies, binwidth=.05)\n",
    "plt.xlim(0, 1)\n",
    "plt.xlabel(\"Mean Accuracy\")\n",
    "plt.ylabel(f\"Count (n={len(accuracies)})\")\n",
    "plt.title(f\"Participant accuracy\")\n",
    "# plt.savefig(f\"figures/{experimentName}/mean_accuracy_hist_per_{target}.png\")"
   ]
  },
  {
   "cell_type": "code",
   "execution_count": 79,
   "metadata": {},
   "outputs": [
    {
     "data": {
      "text/plain": [
       "Text(0.5, 1.0, 'Trial level accuracy')"
      ]
     },
     "execution_count": 79,
     "metadata": {},
     "output_type": "execute_result"
    },
    {
     "data": {
      "image/png": "[encoded data removed]",
      "text/plain": [
       "<Figure size 864x576 with 1 Axes>"
      ]
     },
     "metadata": {
      "needs_background": "light"
     },
     "output_type": "display_data"
    }
   ],
   "source": [
    "accuracies = []\n",
    "textures = []\n",
    "target = \"stimulus\"\n",
    "challenging_stimuli = []\n",
    "for index, trials in df.groupby(target): \n",
    "    accuracy = trials[\"correct\"].mean()\n",
    "    \n",
    "    if accuracy < 0.5:\n",
    "        challenging_stimuli.append((accuracy, trials[\"stimulus\"].iloc[0]))\n",
    "    accuracies.append(accuracy)\n",
    "    \n",
    "    \n",
    "figure = plt.figure(figsize=(12,8))\n",
    "sns.histplot(x=accuracies, binwidth=.05)\n",
    "plt.xlim(0, 1)\n",
    "plt.xlabel(\"Mean Accuracy\")\n",
    "plt.ylabel(f\"Count (n={len(accuracies)})\")\n",
    "plt.title(f\"Trial level accuracy\")\n",
    "# plt.savefig(f\"figures/{experimentName}/mean_accuracy_hist_per_{target}.png\")"
   ]
  },
  {
   "cell_type": "code",
   "execution_count": null,
   "metadata": {},
   "outputs": [],
   "source": [
    "data = []\n",
    "challenging_stimuli = []\n",
    "for index, trials in df.groupby([\"userID\", \"n_objs\"]): \n",
    "    \n",
    "    accuracy = trials[\"correct\"].mean()\n",
    "    user_id = trials[\"userID\"].iloc[0]\n",
    "    texture_name = trials[\"n_objs\"].iloc[0]\n",
    "    \n",
    "    data.append({\"accuracy\": accuracy, \"userID\": user_id, \"texture\": texture_name})\n",
    "    \n",
    "    if accuracy < 0.5:\n",
    "        challenging_stimuli.append((accuracy, trials[\"stimulus\"].iloc[0]))\n",
    "    accuracies.append(accuracy)\n",
    "    \n",
    "\n",
    "tempdf = pd.DataFrame(data)\n",
    "\n",
    "figure, ax = plt.subplots(figsize=(12,8))\n",
    "ax = sns.boxplot(y=\"accuracy\", x=\"texture\", data=tempdf)\n",
    "ax = sns.swarmplot(y=\"accuracy\", x=\"texture\", color=\"black\", alpha=0.5, data=tempdf)\n",
    "\n",
    "plt.ylabel(\"Mean Accuracy\")\n",
    "plt.xlabel(f\"Number of Objects in scene\")\n",
    "plt.title(f\"Accuracy by # objects across all users (n={len(df['userID'].unique())})\")\n",
    "# plt.savefig(f\"figures/{EXPERIMENT_NAME}/mean_accuracy_hist_per_{target}.png\")\n",
    "\n"
   ]
  },
  {
   "cell_type": "code",
   "execution_count": null,
   "metadata": {},
   "outputs": [],
   "source": [
    "data = []\n",
    "challenging_stimuli = []\n",
    "for index, trials in df.groupby([\"stimulus\", \"n_objs\"]): \n",
    "    \n",
    "    accuracy = trials[\"correct\"].mean()\n",
    "    stimulus_id = trials[\"stimulus\"].iloc[0]\n",
    "    n_objs = trials[\"n_objs\"].iloc[0]\n",
    "    \n",
    "    data.append({\"accuracy\": accuracy, \"stimulus\": stimulus_id, \"n_objs\": n_objs})\n",
    "    \n",
    "    accuracies.append(accuracy)\n",
    "    \n",
    "\n",
    "tempdf = pd.DataFrame(data)\n",
    "\n",
    "figure, ax = plt.subplots(figsize=(12,8))\n",
    "ax = sns.boxplot(y=\"accuracy\", x=\"n_objs\", data=tempdf)\n",
    "ax = sns.stripplot(y=\"accuracy\", x=\"n_objs\", color=\"black\", alpha=0.5, data=tempdf)\n",
    "\n",
    "plt.ylabel(\"Mean Accuracy\")\n",
    "plt.xlabel(f\"Number of Objects in scene\")\n",
    "plt.title(f\"Accuracy by # objects across stimulus (n={len(df['stimulus'].unique())})\")\n",
    "# plt.savefig(f\"figures/{EXPERIMENT_NAME}/mean_accuracy_hist_per_{target}.png\")\n",
    "\n"
   ]
  },
  {
   "cell_type": "markdown",
   "metadata": {},
   "source": [
    "# Accuracy across all textures"
   ]
  },
  {
   "cell_type": "code",
   "execution_count": null,
   "metadata": {},
   "outputs": [],
   "source": [
    "accuracies = []\n",
    "textures = []\n",
    "target = \"stimulus\"\n",
    "\n",
    "for index, trials in df.groupby(target): \n",
    "    accuracy = trials[\"correct\"].mean()\n",
    "    accuracies.append(accuracy)\n",
    "    if trials[\"texture_name\"].iloc[0] == \"\":\n",
    "        continue\n",
    "    textures.append(trials[\"texture_name\"].iloc[0])\n",
    "    \n",
    "    \n",
    "tempdf = pd.DataFrame({\"textures\": textures, \"accuracies\": accuracies})\n",
    "\n",
    "figure = plt.figure(figsize=(12,8))\n",
    "sns.boxplot(y=\"accuracies\", x=\"textures\", data=tempdf, order=[\"Dots\", \"Noise\", \"Wave\"])\n",
    "\n",
    "plt.xlabel(\"Texture type (40 stimuli per texture)\")\n",
    "plt.ylabel(f\"Accuracy per stimuli\")\n",
    "plt.title(f\"Accuracy by texture type across stimulus\")\n",
    "# plt.savefig(f\"figures/{EXPERIMENT_NAME}/mean_accuracy_hist_per_{target}.png\")\n"
   ]
  },
  {
   "cell_type": "code",
   "execution_count": null,
   "metadata": {},
   "outputs": [],
   "source": [
    "accuracies = []\n",
    "textures = []\n",
    "target = \"userID\"\n",
    "challenging_stimuli = []\n",
    "for index, trials in df.groupby([target, \"texture_name\"]): \n",
    "    accuracy = trials[\"correct\"].mean()\n",
    "\n",
    "    \n",
    "    accuracies.append(accuracy)\n",
    "    textures.append(trials[\"texture_name\"].iloc[0])\n",
    "    \n",
    "    \n",
    "tempdf = pd.DataFrame({\"textures\": textures, \"accuracies\": accuracies})\n",
    "\n",
    "figure = plt.figure(figsize=(12,8))\n",
    "sns.boxplot(y=\"accuracies\", x=\"textures\", data=tempdf, order=[\"Dots\", \"Noise\", \"Wave\"])\n",
    "\n",
    "plt.xlabel(\"Texture type (40 stimuli per texture)\")\n",
    "plt.ylabel(f\"Accuracy per stimuli\")\n",
    "plt.title(f\"Accuracy by texture type across users\")\n",
    "# plt.savefig(f\"figures/{EXPERIMENT_NAME}/mean_accuracy_hist_per_{target}.png\")\n"
   ]
  },
  {
   "cell_type": "markdown",
   "metadata": {},
   "source": [
    "#  mIOU\n"
   ]
  },
  {
   "cell_type": "code",
   "execution_count": 82,
   "metadata": {},
   "outputs": [
    {
     "data": {
      "text/plain": [
       "Text(0.5, 1.0, 'mIOU per-participant')"
      ]
     },
     "execution_count": 82,
     "metadata": {},
     "output_type": "execute_result"
    },
    {
     "data": {
      "image/png": "[encoded data removed]",
      "text/plain": [
       "<Figure size 864x576 with 1 Axes>"
      ]
     },
     "metadata": {
      "needs_background": "light"
     },
     "output_type": "display_data"
    }
   ],
   "source": [
    "accuracies = []\n",
    "textures = []\n",
    "target = \"userID\"\n",
    "challenging_stimuli = []\n",
    "for index, trials in df.groupby(target): \n",
    "    accuracy = trials[\"miou\"].mean()\n",
    "    \n",
    "    if accuracy < 0.5:\n",
    "        challenging_stimuli.append((accuracy, trials[\"stimulus\"].iloc[0]))\n",
    "    accuracies.append(accuracy)\n",
    "    \n",
    "    \n",
    "figure = plt.figure(figsize=(12,8))\n",
    "sns.histplot(x=accuracies, binwidth=.05)\n",
    "plt.xlim(0, 1)\n",
    "plt.xlabel(\"mIOU\")\n",
    "plt.ylabel(f\"Count (n={len(accuracies)})\")\n",
    "plt.title(f\"mIOU per-participant\")\n",
    "# plt.savefig(f\"figures/{experimentName}/mean_miou_hist_per_{target}.png\")"
   ]
  },
  {
   "cell_type": "code",
   "execution_count": 83,
   "metadata": {},
   "outputs": [
    {
     "data": {
      "text/plain": [
       "Text(0.5, 1.0, 'mIOU per-stimuli')"
      ]
     },
     "execution_count": 83,
     "metadata": {},
     "output_type": "execute_result"
    },
    {
     "data": {
      "image/png": "[encoded data removed]",
      "text/plain": [
       "<Figure size 864x576 with 1 Axes>"
      ]
     },
     "metadata": {
      "needs_background": "light"
     },
     "output_type": "display_data"
    }
   ],
   "source": [
    "accuracies = []\n",
    "textures = []\n",
    "target = \"stimulus\"\n",
    "challenging_stimuli = []\n",
    "for index, trials in df.groupby(target): \n",
    "    accuracy = trials[\"miou\"].mean()\n",
    "    \n",
    "    if accuracy < 0.25:\n",
    "        challenging_stimuli.append((accuracy, trials[\"stimulus\"].iloc[0]))\n",
    "    accuracies.append(accuracy)\n",
    "    \n",
    "    \n",
    "figure = plt.figure(figsize=(12,8))\n",
    "sns.histplot(x=accuracies, binwidth=.05)\n",
    "plt.xlim(0, 1)\n",
    "plt.xlabel(\"mIOU\")\n",
    "plt.ylabel(f\"Count (n={len(accuracies)})\")\n",
    "plt.title(f\"mIOU per-stimuli\")\n",
    "# plt.savefig(f\"figures/{experimentName}/mean_miou_hist_per_{target}.png\")"
   ]
  },
  {
   "cell_type": "code",
   "execution_count": 84,
   "metadata": {},
   "outputs": [
    {
     "data": {
      "text/plain": [
       "[(0.20594961183412444,\n",
       "  'https://mlve-v1.s3.us-east-2.amazonaws.com/gestalt_shapegen/images/image_007.png'),\n",
       " (0.112761056193529,\n",
       "  'https://mlve-v1.s3.us-east-2.amazonaws.com/gestalt_shapegen/images/image_026.png'),\n",
       " (0.23320476150561667,\n",
       "  'https://mlve-v1.s3.us-east-2.amazonaws.com/gestalt_shapegen/images/image_029.png'),\n",
       " (0.14603343587941262,\n",
       "  'https://mlve-v1.s3.us-east-2.amazonaws.com/gestalt_shapegen/images/image_037.png'),\n",
       " (0.04404901355509162,\n",
       "  'https://mlve-v1.s3.us-east-2.amazonaws.com/gestalt_shapegen/images/image_064.png'),\n",
       " (0.20220472544378015,\n",
       "  'https://mlve-v1.s3.us-east-2.amazonaws.com/gestalt_shapegen/images/image_078.png')]"
      ]
     },
     "execution_count": 84,
     "metadata": {},
     "output_type": "execute_result"
    }
   ],
   "source": [
    "challenging_stimuli"
   ]
  },
  {
   "cell_type": "code",
   "execution_count": null,
   "metadata": {},
   "outputs": [],
   "source": [
    "data = []\n",
    "challenging_stimuli = []\n",
    "for index, trials in df.groupby([\"userID\", \"n_objs\"]): \n",
    "    \n",
    "    accuracy = trials[\"miou\"].mean()\n",
    "    user_id = trials[\"userID\"].iloc[0]\n",
    "    texture_name = trials[\"n_objs\"].iloc[0]\n",
    "    \n",
    "    data.append({\"accuracy\": accuracy, \"user_id\": user_id, \"texture\": texture_name})\n",
    "    \n",
    "    if accuracy < 0.5:\n",
    "        challenging_stimuli.append((accuracy, trials[\"stimulus\"].iloc[0]))\n",
    "    accuracies.append(accuracy)\n",
    "    \n",
    "\n",
    "tempdf = pd.DataFrame(data)\n",
    "\n",
    "figure, ax = plt.subplots(figsize=(12,8))\n",
    "ax = sns.boxplot(y=\"accuracy\", x=\"texture\", data=tempdf)\n",
    "ax = sns.swarmplot(y=\"accuracy\", x=\"texture\", color=\"black\", alpha=0.5, data=tempdf)\n",
    "\n",
    "plt.ylabel(\"mIOU\")\n",
    "plt.xlabel(f\"Number of Objects in scene\")\n",
    "plt.title(f\"mIOU by # objects across all users (n={len(df['userID'].unique())})\")\n",
    "plt.savefig(f\"figures/{experimentName}/mean_accuracy_hist_per_{target}.png\")\n",
    "\n"
   ]
  },
  {
   "cell_type": "code",
   "execution_count": null,
   "metadata": {},
   "outputs": [],
   "source": [
    "data = []\n",
    "challenging_stimuli = []\n",
    "for index, trials in df.groupby([\"stimulus\", \"n_objs\"]): \n",
    "    \n",
    "    accuracy = trials[\"miou\"].mean()\n",
    "    user_id = trials[\"userID\"].iloc[0]\n",
    "    texture_name = trials[\"n_objs\"].iloc[0]\n",
    "    \n",
    "    data.append({\"accuracy\": accuracy, \"user_id\": user_id, \"texture\": texture_name})\n",
    "    \n",
    "    if accuracy < 0.5:\n",
    "        challenging_stimuli.append((accuracy, trials[\"stimulus\"].iloc[0]))\n",
    "    accuracies.append(accuracy)\n",
    "    \n",
    "\n",
    "tempdf = pd.DataFrame(data)\n",
    "\n",
    "figure, ax = plt.subplots(figsize=(12,8))\n",
    "ax = sns.boxplot(y=\"accuracy\", x=\"texture\", data=tempdf)\n",
    "ax = sns.swarmplot(y=\"accuracy\", x=\"texture\", color=\"black\", alpha=0.5, data=tempdf)\n",
    "\n",
    "plt.ylabel(\"mIOU\")\n",
    "plt.xlabel(f\"Number of Objects in scene\")\n",
    "n_stimulus = len(df[\"stimulus\"].unique())\n",
    "plt.title(f\"mIOU by # objects across all stimulus (n={n_stimulus})\")\n",
    "plt.savefig(f\"figures/{experimentName}/mean_accuracy_hist_per_{target}.png\")\n",
    "\n"
   ]
  },
  {
   "cell_type": "code",
   "execution_count": null,
   "metadata": {},
   "outputs": [],
   "source": [
    "data = []\n",
    "challenging_stimuli = []\n",
    "for index, trials in df.groupby([\"userID\", \"texture_name\"]): \n",
    "    \n",
    "    accuracy = trials[\"miou\"].mean()\n",
    "    user_id = trials[\"userID\"].iloc[0]\n",
    "    texture_name = trials[\"texture_name\"].iloc[0]\n",
    "    \n",
    "    data.append({\"accuracy\": accuracy, \"user_id\": user_id, \"texture\": texture_name})\n",
    "    \n",
    "    if accuracy < 0.5:\n",
    "        challenging_stimuli.append((accuracy, trials[\"stimulus\"].iloc[0]))\n",
    "    accuracies.append(accuracy)\n",
    "    \n",
    "\n",
    "tempdf = pd.DataFrame(data)\n",
    "\n",
    "figure, ax = plt.subplots(figsize=(12,8))\n",
    "ax = sns.boxplot(y=\"accuracy\", x=\"texture\", data=tempdf)\n",
    "ax = sns.swarmplot(y=\"accuracy\", x=\"texture\", color=\"black\", alpha=0.5, data=tempdf, order=[\"Dots\", \"Noise\", \"Wave\"])\n",
    "\n",
    "plt.ylabel(\"mIOU\")\n",
    "plt.xlabel(f\"Number of Objects in scene\")\n",
    "plt.title(f\"mIOU by texture type across all users (n={len(df['userID'].unique())})\")\n",
    "plt.savefig(f\"figures/{experimentName}/mean_accuracy_hist_per_{target}.png\")\n",
    "\n"
   ]
  },
  {
   "cell_type": "code",
   "execution_count": null,
   "metadata": {},
   "outputs": [],
   "source": [
    "data = []\n",
    "challenging_stimuli = []\n",
    "for index, trials in df.groupby([\"stimulus\", \"texture_name\"]): \n",
    "    \n",
    "    accuracy = trials[\"miou\"].mean()\n",
    "    user_id = trials[\"userID\"].iloc[0]\n",
    "    texture_name = trials[\"texture_name\"].iloc[0]\n",
    "    \n",
    "    data.append({\"accuracy\": accuracy, \"user_id\": user_id, \"texture\": texture_name})\n",
    "    \n",
    "    if accuracy < 0.5:\n",
    "        challenging_stimuli.append((accuracy, trials[\"stimulus\"].iloc[0]))\n",
    "    accuracies.append(accuracy)\n",
    "    \n",
    "\n",
    "tempdf = pd.DataFrame(data)\n",
    "\n",
    "figure, ax = plt.subplots(figsize=(12,8))\n",
    "ax = sns.boxplot(y=\"accuracy\", x=\"texture\", data=tempdf, order=[\"Dots\", \"Noise\", \"Wave\"])\n",
    "ax = sns.swarmplot(y=\"accuracy\", x=\"texture\", color=\"black\", alpha=0.5, data=tempdf, order=[\"Dots\", \"Noise\", \"Wave\"])\n",
    "\n",
    "plt.ylabel(\"mIOU\")\n",
    "plt.xlabel(f\"Number of Objects in scene\")\n",
    "plt.title(f\"mIOU by texture type across all stimulus (n={n_stimulus})\")\n",
    "plt.savefig(f\"figures/{experimentName}/mean_accuracy_hist_per_{target}.png\")\n",
    "\n",
    "\n"
   ]
  },
  {
   "cell_type": "code",
   "execution_count": null,
   "metadata": {},
   "outputs": [],
   "source": [
    "def add_box(box, ax, alpha=0.8, color=\"red\", linewidth=5):\n",
    "    if len(box) != 4:\n",
    "        box = process_box(box)\n",
    "    width = box[2] - box[0]\n",
    "    height = box[3] - box[1]\n",
    "    if not color or color == \"random\":\n",
    "        import random\n",
    "        color = \"#%06x\" % random.randint(0, 0xFFFFFF)\n",
    "        \n",
    "    rect = patches.Rectangle((box[0], box[1]), width, height, linewidth=linewidth, edgecolor=color, \n",
    "                             alpha=alpha, facecolor='none')\n",
    "    ax.add_patch(rect)\n",
    "    return ax\n",
    "\n",
    "def plot_trial(trial):\n",
    "    fig, ax = plt.subplots(figsize=(16,12))\n",
    "    print(trial[\"userID\"])\n",
    "    \n",
    "    gt_bb = trial[\"gt_bounding_box\"]\n",
    "    s_bb = trial[\"subject_bounding_box\"]\n",
    "    \n",
    "    print(gt_bb, s_bb)\n",
    "    if gt_bb:\n",
    "        add_box(gt_bb, ax, color=\"blue\", alpha=0.75)\n",
    "        \n",
    "    if s_bb:\n",
    "        add_box(s_bb, ax, color=\"red\", alpha=0.75)\n",
    "        \n",
    "    url = trial[\"stimulus\"]\n",
    "    image = download_from_url(url)\n",
    "\n",
    "    probe_location = trial[\"probe_location\"]\n",
    "    \n",
    "    ax.imshow(image, cmap=\"gray\")\n",
    "\n",
    "    # Add probes\n",
    "    probe = patches.Circle(probe_location, radius=12, color=\"#69597f\", alpha=0.8)\n",
    "    ax.add_patch(probe)\n",
    "    probe = patches.Circle(probe_location, radius=4, color=\"#ff0601\", alpha=1)\n",
    "    ax.add_patch(probe)\n",
    "\n",
    "    return fig"
   ]
  },
  {
   "cell_type": "code",
   "execution_count": null,
   "metadata": {
    "scrolled": false
   },
   "outputs": [],
   "source": [
    "for index, trial in df.iterrows():\n",
    "    miou = calc_mIOU(trial[\"gt_bounding_box\"], trial[\"subject_bounding_box\"])\n",
    "    print(miou)\n",
    "    fig=plot_trial(trial)\n",
    "    plt.show()\n",
    "    plt.close()"
   ]
  },
  {
   "cell_type": "code",
   "execution_count": null,
   "metadata": {
    "scrolled": false
   },
   "outputs": [],
   "source": [
    "avg_bboxes = False\n",
    "run_plots = True\n",
    "\n",
    "save_path = \"/Users/yoni/Desktop/static_detection_v1_user_bboxes/\"\n",
    "if not os.path.exists(save_path):\n",
    "    os.mkdir(save_path)\n",
    "    \n",
    "if run_plots:\n",
    "    for index, trials in df.groupby(\"stimulus\"):\n",
    "\n",
    "        url = index\n",
    "        image = download_from_url(url)\n",
    "\n",
    "        # Add probes\n",
    "        probe_location = trials.iloc[0][\"probe_location\"]\n",
    "        probe_touching = trials.iloc[0][\"probe_touching\"]\n",
    "\n",
    "        if not probe_touching:\n",
    "            continue \n",
    "\n",
    "        fig, ax = plt.subplots(1,1, figsize=(16, 12))\n",
    "        image = download_from_url(url)\n",
    "\n",
    "        ax.imshow(image, cmap=\"gray\")\n",
    "\n",
    "        probe = patches.Circle(probe_location, radius=12, color=\"#69597f\", alpha=0.8)\n",
    "        ax.add_patch(probe)\n",
    "\n",
    "        probe = patches.Circle(probe_location, radius=4, color=\"#ff0601\", alpha=1)\n",
    "        ax.add_patch(probe)\n",
    "\n",
    "        gt_bb = trials.iloc[0][\"gt_bounding_box\"]\n",
    "        ax = add_box(gt_bb, ax, color=\"red\", linewidth=10, alpha=1)\n",
    "\n",
    "        avg_bb = []\n",
    "        count = 0\n",
    "        for i, trial in trials.iterrows():\n",
    "            s_bb = trial[\"subject_bounding_box\"]\n",
    "            if s_bb:\n",
    "                if avg_bboxes:\n",
    "                    box = np.array(process_box(s_bb))\n",
    "                    count += 1\n",
    "                    if not len(avg_bb):\n",
    "                        avg_bb.append(box)\n",
    "                    else:\n",
    "                        avg_bb.append(box)\n",
    "                else: \n",
    "                    add_box(s_bb, ax, alpha=0.5, linewidth=5, color=\"random\")\n",
    "\n",
    "        if avg_bboxes:\n",
    "            avg_bb = np.array(avg_bb).mean(axis=0)\n",
    "            add_box(avg_bb, ax, alpha=0.9, linewidth=5, color=\"blue\")\n",
    "            miou = calc_mIOU(avg_bb, gt_bb)\n",
    "            print(miou)\n",
    "        \n",
    "\n",
    "        trial_name = url.split(\".com\")[1][1:].replace(\"/\", \"-\")\n",
    "        trial_name = trial_name.replace(\"-images\", \"\")\n",
    "\n",
    "        plt.title(trial_name)\n",
    "        plt.savefig(os.path.join(save_path, trial_name + \".png\"))\n",
    "        plt.show()\n",
    "        plt.close()"
   ]
  },
  {
   "cell_type": "markdown",
   "metadata": {},
   "source": [
    "# Regress parameters that make this difficult"
   ]
  },
  {
   "cell_type": "code",
   "execution_count": null,
   "metadata": {},
   "outputs": [],
   "source": [
    "import statsmodels.formula.api as sm_api\n",
    "import statsmodels.api as sm\n"
   ]
  },
  {
   "cell_type": "code",
   "execution_count": null,
   "metadata": {},
   "outputs": [],
   "source": [
    "attention_filtered.info()"
   ]
  },
  {
   "cell_type": "code",
   "execution_count": null,
   "metadata": {},
   "outputs": [],
   "source": [
    "camera_loc = np.array([18.5, -18.2, 12.2])"
   ]
  },
  {
   "cell_type": "markdown",
   "metadata": {},
   "source": [
    "## Extract texture params"
   ]
  },
  {
   "cell_type": "code",
   "execution_count": null,
   "metadata": {},
   "outputs": [],
   "source": [
    "# Object parameters\n",
    "get_distortion = lambda x: x[\"params\"].get(\"Distortion\", x[\"params\"].get(\"Scale\"))\n",
    "\n",
    "attention_filtered[\"obj_scale\"] = attention_filtered[\"obj_texture_data\"].apply(lambda x: x[\"params\"][\"Scale\"])\n",
    "attention_filtered[\"obj_distortion\"] = attention_filtered[\"obj_texture_data\"].apply(get_distortion)\n",
    "\n",
    "# Background parameters\n",
    "attention_filtered[\"background_scale\"] = attention_filtered[\"background_texture\"].apply(\n",
    "    lambda x: x[\"params\"][\"Scale\"])\n",
    "attention_filtered[\"background_distortion\"] = attention_filtered[\"background_texture\"].apply(get_distortion)\n",
    "\n",
    "camera_dist = lambda x: np.sqrt(np.sum((np.array(x) - camera_loc) ** 2))\n",
    "attention_filtered[\"obj_distance\"] = attention_filtered[\"obj_location_data\"].apply(camera_dist)"
   ]
  },
  {
   "cell_type": "markdown",
   "metadata": {},
   "source": [
    "## Combine them"
   ]
  },
  {
   "cell_type": "code",
   "execution_count": null,
   "metadata": {},
   "outputs": [],
   "source": [
    "attention_filtered[\"scale_diff\"] = attention_filtered[\"obj_scale\"] - attention_filtered[\"background_scale\"]\n",
    "attention_filtered[\"distortion_diff\"] = attention_filtered[\"obj_distortion\"] - \\\n",
    "                                        attention_filtered[\"background_distortion\"]\n",
    "attention_filtered[\"texture_categorical\"] = attention_filtered[\"texture_name\"].astype(\"category\")"
   ]
  },
  {
   "cell_type": "markdown",
   "metadata": {},
   "source": [
    "## Normalize everything"
   ]
  },
  {
   "cell_type": "code",
   "execution_count": null,
   "metadata": {},
   "outputs": [],
   "source": [
    "attention_filtered[\"scale_diff\"] = (attention_filtered[\"scale_diff\"] - attention_filtered[\"scale_diff\"].mean()) / \\\n",
    "                                    attention_filtered[\"scale_diff\"].std()\n",
    "    \n",
    "attention_filtered[\"distortion_diff\"] = (attention_filtered[\"distortion_diff\"] - attention_filtered[\"distortion_diff\"].mean()) / \\\n",
    "                                    attention_filtered[\"distortion_diff\"].std()\n",
    "    \n",
    "attention_filtered[\"miou_norm\"] = (attention_filtered[\"miou\"] - attention_filtered[\"miou\"].mean()) / \\\n",
    "                                    attention_filtered[\"miou\"].std()\n",
    "    \n",
    "attention_filtered[\"obj_distance\"] = (attention_filtered[\"obj_distance\"] - attention_filtered[\"obj_distance\"].mean()) / \\\n",
    "                                    attention_filtered[\"obj_distance\"].std()\n",
    "    "
   ]
  },
  {
   "cell_type": "code",
   "execution_count": null,
   "metadata": {},
   "outputs": [],
   "source": [
    "fig, ax = plt.subplots()\n",
    "exog_vars = [\"obj_distance\", \"scale_diff\", \"distortion_diff\"]\n",
    "exog = attention_filtered[exog_vars]\n",
    "sns.heatmap(exog.corr(), cmap=\"viridis\")\n",
    "plt.show()\n",
    "\n",
    "keep_idxs = attention_filtered[\"miou\"].notna()\n",
    "X = sm.add_constant(exog[keep_idxs])\n",
    "endog = attention_filtered[\"miou_norm\"][keep_idxs]\n",
    "model = sm.OLS(exog=X, endog=endog)\n",
    "result = model.fit()"
   ]
  },
  {
   "cell_type": "code",
   "execution_count": null,
   "metadata": {},
   "outputs": [],
   "source": [
    "print(result.summary())"
   ]
  },
  {
   "cell_type": "code",
   "execution_count": null,
   "metadata": {},
   "outputs": [],
   "source": [
    "# fig = plt.figure(figsize=(10, 8))\n",
    "fig = sm.graphics.plot_partregress_grid(result)\n",
    "fig.tight_layout(pad=2)\n"
   ]
  },
  {
   "cell_type": "code",
   "execution_count": null,
   "metadata": {},
   "outputs": [],
   "source": []
  }
 ],
 "metadata": {
  "kernelspec": {
   "display_name": "Python 3 (ipykernel)",
   "language": "python",
   "name": "python3"
  },
  "language_info": {
   "codemirror_mode": {
    "name": "ipython",
    "version": 3
   },
   "file_extension": ".py",
   "mimetype": "text/x-python",
   "name": "python",
   "nbconvert_exporter": "python",
   "pygments_lexer": "ipython3",
   "version": "3.9.12"
  }
 },
 "nbformat": 4,
 "nbformat_minor": 4
}
