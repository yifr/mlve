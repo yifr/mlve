{
 "cells": [
  {
   "cell_type": "code",
   "execution_count": 1,
   "metadata": {},
   "outputs": [],
   "source": [
    "%load_ext autoreload\n",
    "%autoreload 2"
   ]
  },
  {
   "cell_type": "code",
   "execution_count": 2,
   "metadata": {},
   "outputs": [],
   "source": [
    "import os\n",
    "import re\n",
    "import io\n",
    "import ast\n",
    "import sys\n",
    "import json\n",
    "import boto3 \n",
    "import pymongo \n",
    "import numpy as np\n",
    "import pandas as pd\n",
    "import seaborn as sns\n",
    "import matplotlib.pyplot as plt\n",
    "import matplotlib.patches as patches\n",
    "\n",
    "from PIL import Image\n",
    "from urllib import request\n",
    "from collections import Counter"
   ]
  },
  {
   "cell_type": "code",
   "execution_count": 3,
   "metadata": {},
   "outputs": [],
   "source": [
    "from matplotlib import rcParams\n",
    "rcParams[\"font.size\"] = 18\n",
    "rcParams[\"figure.titlesize\"] = 26"
   ]
  },
  {
   "cell_type": "code",
   "execution_count": 4,
   "metadata": {},
   "outputs": [],
   "source": [
    "projName = \"thomas_m2s\"\n",
    "experimentName = \"shapenet13.v3\"\n",
    "iterName = \"iter-0\"\n",
    "S3_BUCKET_NAME = \"thomas-m2s-shapenet13-v3\""
   ]
  },
  {
   "cell_type": "markdown",
   "metadata": {},
   "source": [
    "# Downloading data from ec2 server (mostly just instructions for thomas)\n",
    "\n",
    "In `settings.conf` change the `MONGODB_PORT` to 27017, and the `MONGODB_HOST` to `localhost`. Then run the ssh port into the ec2 server: \n",
    "\n",
    "```\n",
    "ssh -i path/to/pem/key/EC2_PemKey.pem -NL 27017:localhost:27017 ubuntu@ec2-34-228-26-201.compute-1.amazonaws.com\n",
    "```\n",
    "\n",
    "Change the path to the pem key, but otherwise this should all stay the same."
   ]
  },
  {
   "cell_type": "code",
   "execution_count": 5,
   "metadata": {},
   "outputs": [],
   "source": [
    "drop_ids = [\"yoni_test\", \"tom_pilot0\"]"
   ]
  },
  {
   "cell_type": "code",
   "execution_count": 1,
   "metadata": {},
   "outputs": [],
   "source": [
    "def get_db_connection(connectionTimeoutMS=5000):\n",
    "    user = \"cabUser\"\n",
    "    pwd = \"miwokPetaluuma\"\n",
    "    host = \"localhost\"\n",
    "    port = \"27017\"\n",
    "    connstr = \"mongodb://%s:%s@%s:%s\" % (user, pwd, host, port)\n",
    "    conn = pm.MongoClient(connstr, serverSelectionTimeoutMS=connectionTimeoutMS)\n",
    "    print(\"Checking database connection...\")\n",
    "    conn.server_info()\n",
    "    print(\"Connection established!\")\n",
    "    return conn\n",
    "  "
   ]
  },
  {
   "cell_type": "code",
   "execution_count": 3,
   "metadata": {},
   "outputs": [
    {
     "ename": "NameError",
     "evalue": "name 'get_cab_configs' is not defined",
     "output_type": "error",
     "traceback": [
      "\u001b[0;31m---------------------------------------------------------------------------\u001b[0m",
      "\u001b[0;31mNameError\u001b[0m                                 Traceback (most recent call last)",
      "Input \u001b[0;32mIn [3]\u001b[0m, in \u001b[0;36m<cell line: 1>\u001b[0;34m()\u001b[0m\n\u001b[0;32m----> 1\u001b[0m conn \u001b[38;5;241m=\u001b[39m \u001b[43mget_db_connection\u001b[49m\u001b[43m(\u001b[49m\u001b[43m)\u001b[49m\n\u001b[1;32m      2\u001b[0m db \u001b[38;5;241m=\u001b[39m conn[projName \u001b[38;5;241m+\u001b[39m \u001b[38;5;124m\"\u001b[39m\u001b[38;5;124m_outputs\u001b[39m\u001b[38;5;124m\"\u001b[39m]\n\u001b[1;32m      3\u001b[0m col \u001b[38;5;241m=\u001b[39m db[experimentName]\n",
      "Input \u001b[0;32mIn [1]\u001b[0m, in \u001b[0;36mget_db_connection\u001b[0;34m(connectionTimeoutMS)\u001b[0m\n\u001b[1;32m      1\u001b[0m \u001b[38;5;28;01mdef\u001b[39;00m \u001b[38;5;21mget_db_connection\u001b[39m(connectionTimeoutMS\u001b[38;5;241m=\u001b[39m\u001b[38;5;241m5000\u001b[39m):\n\u001b[0;32m----> 2\u001b[0m     configs \u001b[38;5;241m=\u001b[39m \u001b[43mget_cab_configs\u001b[49m()\n\u001b[1;32m      3\u001b[0m     user \u001b[38;5;241m=\u001b[39m \u001b[38;5;124m\"\u001b[39m\u001b[38;5;124mcabUser\u001b[39m\u001b[38;5;124m\"\u001b[39m\n\u001b[1;32m      4\u001b[0m     pwd \u001b[38;5;241m=\u001b[39m \u001b[38;5;124m\"\u001b[39m\u001b[38;5;124mmiwokPetaluuma\u001b[39m\u001b[38;5;124m\"\u001b[39m\n",
      "\u001b[0;31mNameError\u001b[0m: name 'get_cab_configs' is not defined"
     ]
    }
   ],
   "source": [
    "conn = get_db_connection()\n",
    "db = conn[projName + \"_outputs\"]\n",
    "col = db[experimentName]"
   ]
  },
  {
   "cell_type": "code",
   "execution_count": 7,
   "metadata": {},
   "outputs": [],
   "source": [
    "def results_to_df():\n",
    "    results = []\n",
    "    cursor = col.find({})\n",
    "    for document in cursor:\n",
    "        results.append(document)\n",
    "    \n",
    "    df = pd.DataFrame(results)\n",
    "    return df\n",
    "\n",
    "df = results_to_df()"
   ]
  },
  {
   "cell_type": "code",
   "execution_count": 8,
   "metadata": {},
   "outputs": [],
   "source": [
    "df.to_csv(f\"tom_m2s_{experimentName}.csv\")"
   ]
  },
  {
   "cell_type": "code",
   "execution_count": 9,
   "metadata": {},
   "outputs": [],
   "source": [
    "df = df[~df['userID'].isin(drop_ids)]"
   ]
  },
  {
   "cell_type": "code",
   "execution_count": 10,
   "metadata": {},
   "outputs": [
    {
     "name": "stdout",
     "output_type": "stream",
     "text": [
      "<class 'pandas.core.frame.DataFrame'>\n",
      "Int64Index: 4829 entries, 0 to 4828\n",
      "Data columns (total 23 columns):\n",
      " #   Column            Non-Null Count  Dtype  \n",
      "---  ------            --------------  -----  \n",
      " 0   _id               4829 non-null   object \n",
      " 1   img_sample        4799 non-null   object \n",
      " 2   img_target        4799 non-null   object \n",
      " 3   img_lure          4799 non-null   object \n",
      " 4   rt                4829 non-null   int64  \n",
      " 5   index             4799 non-null   float64\n",
      " 6   stimulus          4799 non-null   object \n",
      " 7   response          4829 non-null   object \n",
      " 8   correct           4799 non-null   object \n",
      " 9   correct_choice    4799 non-null   float64\n",
      " 10  choices           4799 non-null   object \n",
      " 11  trial_type        4829 non-null   object \n",
      " 12  trial_index       4829 non-null   int64  \n",
      " 13  time_elapsed      4829 non-null   int64  \n",
      " 14  internal_node_id  4829 non-null   object \n",
      " 15  gameid            4799 non-null   object \n",
      " 16  iterationName     4829 non-null   object \n",
      " 17  inputid           0 non-null      object \n",
      " 18  projName          4829 non-null   object \n",
      " 19  expName           4829 non-null   object \n",
      " 20  sessionID         4829 non-null   object \n",
      " 21  studyID           4829 non-null   object \n",
      " 22  userID            4829 non-null   object \n",
      "dtypes: float64(2), int64(3), object(18)\n",
      "memory usage: 905.4+ KB\n"
     ]
    }
   ],
   "source": [
    "df.info()"
   ]
  },
  {
   "cell_type": "code",
   "execution_count": 11,
   "metadata": {},
   "outputs": [],
   "source": [
    "def download_from_s3(url, resource_type=\"image\"):\n",
    "    s3 = boto3.resource('s3', region_name=\"us-east-2\")\n",
    "    bucket = s3.Bucket(S3_BUCKET_NAME)\n",
    "    item = bucket.Object(url)\n",
    "    if resource_type == \"image\":\n",
    "        file_stream = io.BytesIO()\n",
    "        item.download_fileobj(file_stream)\n",
    "        img = Image.open(file_stream)\n",
    "        return img\n",
    "    \n",
    "    else:\n",
    "        return item"
   ]
  },
  {
   "cell_type": "code",
   "execution_count": 12,
   "metadata": {},
   "outputs": [
    {
     "data": {
      "text/plain": [
       "0.9864555115649094"
      ]
     },
     "execution_count": 12,
     "metadata": {},
     "output_type": "execute_result"
    }
   ],
   "source": [
    "df[\"correct\"].mean()"
   ]
  },
  {
   "cell_type": "code",
   "execution_count": 13,
   "metadata": {},
   "outputs": [],
   "source": [
    "def download_from_url(url):\n",
    "    obj = request.urlretrieve(url)\n",
    "    image = Image.open(obj[0])\n",
    "    return image"
   ]
  },
  {
   "cell_type": "code",
   "execution_count": 14,
   "metadata": {},
   "outputs": [
    {
     "data": {
      "text/plain": [
       "0.9864555115649094"
      ]
     },
     "execution_count": 14,
     "metadata": {},
     "output_type": "execute_result"
    }
   ],
   "source": [
    "df[\"correct\"].mean()"
   ]
  },
  {
   "cell_type": "code",
   "execution_count": 15,
   "metadata": {},
   "outputs": [
    {
     "data": {
      "text/plain": [
       "Text(0.5, 1.0, 'Accuracy per trial')"
      ]
     },
     "execution_count": 15,
     "metadata": {},
     "output_type": "execute_result"
    },
    {
     "data": {
      "image/png": "[encoded data removed]",
      "text/plain": [
       "<Figure size 1296x432 with 1 Axes>"
      ]
     },
     "metadata": {
      "needs_background": "light"
     },
     "output_type": "display_data"
    }
   ],
   "source": [
    "img_stats = []\n",
    "for img, rows in df.groupby(\"img_sample\"):\n",
    "    mean = rows[\"correct\"].mean()\n",
    "    std = rows[\"correct\"].std()\n",
    "    img_stats.append([mean, std, img])\n",
    "    \n",
    "\n",
    "img_stats.sort(key=lambda x: x[0])\n",
    "fig = plt.figure(figsize=(18, 6))\n",
    "img_stats = np.array(img_stats)\n",
    "means = img_stats[:, 0].squeeze().astype(np.float64)\n",
    "stds = img_stats[:, 1].squeeze().astype(np.float64)\n",
    "xs = np.arange(len(range(img_stats.shape[0])))\n",
    "\n",
    "plt.scatter(xs, means)\n",
    "plt.errorbar(xs, means, yerr=stds)\n",
    "plt.title(\"Accuracy per trial\")"
   ]
  },
  {
   "cell_type": "markdown",
   "metadata": {},
   "source": [
    "# Generate cleaned version"
   ]
  },
  {
   "cell_type": "code",
   "execution_count": 16,
   "metadata": {},
   "outputs": [
    {
     "data": {
      "text/plain": [
       "([], [])"
      ]
     },
     "execution_count": 16,
     "metadata": {},
     "output_type": "execute_result"
    },
    {
     "data": {
      "image/png": "[encoded data removed]",
      "text/plain": [
       "<Figure size 576x432 with 1 Axes>"
      ]
     },
     "metadata": {
      "needs_background": "light"
     },
     "output_type": "display_data"
    }
   ],
   "source": [
    "fig = plt.figure(figsize=(8, 6))\n",
    "sns.barplot(x=\"userID\", y=\"correct\", data=df)\n",
    "plt.xticks([])"
   ]
  },
  {
   "cell_type": "code",
   "execution_count": null,
   "metadata": {},
   "outputs": [],
   "source": []
  },
  {
   "cell_type": "code",
   "execution_count": 17,
   "metadata": {},
   "outputs": [
    {
     "data": {
      "text/html": [
       "<div>\n",
       "<style scoped>\n",
       "    .dataframe tbody tr th:only-of-type {\n",
       "        vertical-align: middle;\n",
       "    }\n",
       "\n",
       "    .dataframe tbody tr th {\n",
       "        vertical-align: top;\n",
       "    }\n",
       "\n",
       "    .dataframe thead th {\n",
       "        text-align: right;\n",
       "    }\n",
       "</style>\n",
       "<table border=\"1\" class=\"dataframe\">\n",
       "  <thead>\n",
       "    <tr style=\"text-align: right;\">\n",
       "      <th></th>\n",
       "      <th>_id</th>\n",
       "      <th>img_sample</th>\n",
       "      <th>img_target</th>\n",
       "      <th>img_lure</th>\n",
       "      <th>rt</th>\n",
       "      <th>index</th>\n",
       "      <th>stimulus</th>\n",
       "      <th>response</th>\n",
       "      <th>correct</th>\n",
       "      <th>correct_choice</th>\n",
       "      <th>...</th>\n",
       "      <th>time_elapsed</th>\n",
       "      <th>internal_node_id</th>\n",
       "      <th>gameid</th>\n",
       "      <th>iterationName</th>\n",
       "      <th>inputid</th>\n",
       "      <th>projName</th>\n",
       "      <th>expName</th>\n",
       "      <th>sessionID</th>\n",
       "      <th>studyID</th>\n",
       "      <th>userID</th>\n",
       "    </tr>\n",
       "  </thead>\n",
       "  <tbody>\n",
       "    <tr>\n",
       "      <th>0</th>\n",
       "      <td>62fabc9c61d5f4ebb6753b2a</td>\n",
       "      <td>https://thomas-m2s-shapenet13-v3.s3.amazonaws....</td>\n",
       "      <td>https://thomas-m2s-shapenet13-v3.s3.amazonaws....</td>\n",
       "      <td>https://thomas-m2s-shapenet13-v3.s3.amazonaws....</td>\n",
       "      <td>968</td>\n",
       "      <td>0.0</td>\n",
       "      <td>https://thomas-m2s-shapenet13-v3.s3.amazonaws....</td>\n",
       "      <td>1</td>\n",
       "      <td>True</td>\n",
       "      <td>1.0</td>\n",
       "      <td>...</td>\n",
       "      <td>71644</td>\n",
       "      <td>0.0-10.0</td>\n",
       "      <td>3097-6a59060a-56cb-47ff-be07-6373f0117708</td>\n",
       "      <td>iter-0</td>\n",
       "      <td>None</td>\n",
       "      <td>thomas_m2s</td>\n",
       "      <td>shapenet13.v3</td>\n",
       "      <td>62fabc4d35041e590db047f7</td>\n",
       "      <td>62fab2f9ed32b93708282a00</td>\n",
       "      <td>60d101464180f5f5cd211e77</td>\n",
       "    </tr>\n",
       "    <tr>\n",
       "      <th>1</th>\n",
       "      <td>62fabc9e61d5f4ebb6753b2c</td>\n",
       "      <td>https://thomas-m2s-shapenet13-v3.s3.amazonaws....</td>\n",
       "      <td>https://thomas-m2s-shapenet13-v3.s3.amazonaws....</td>\n",
       "      <td>https://thomas-m2s-shapenet13-v3.s3.amazonaws....</td>\n",
       "      <td>816</td>\n",
       "      <td>1.0</td>\n",
       "      <td>https://thomas-m2s-shapenet13-v3.s3.amazonaws....</td>\n",
       "      <td>0</td>\n",
       "      <td>True</td>\n",
       "      <td>0.0</td>\n",
       "      <td>...</td>\n",
       "      <td>73463</td>\n",
       "      <td>0.0-11.0</td>\n",
       "      <td>3097-6a59060a-56cb-47ff-be07-6373f0117708</td>\n",
       "      <td>iter-0</td>\n",
       "      <td>None</td>\n",
       "      <td>thomas_m2s</td>\n",
       "      <td>shapenet13.v3</td>\n",
       "      <td>62fabc4d35041e590db047f7</td>\n",
       "      <td>62fab2f9ed32b93708282a00</td>\n",
       "      <td>60d101464180f5f5cd211e77</td>\n",
       "    </tr>\n",
       "    <tr>\n",
       "      <th>2</th>\n",
       "      <td>62fabca061d5f4ebb6753b2d</td>\n",
       "      <td>https://thomas-m2s-shapenet13-v3.s3.amazonaws....</td>\n",
       "      <td>https://thomas-m2s-shapenet13-v3.s3.amazonaws....</td>\n",
       "      <td>https://thomas-m2s-shapenet13-v3.s3.amazonaws....</td>\n",
       "      <td>907</td>\n",
       "      <td>2.0</td>\n",
       "      <td>https://thomas-m2s-shapenet13-v3.s3.amazonaws....</td>\n",
       "      <td>0</td>\n",
       "      <td>True</td>\n",
       "      <td>0.0</td>\n",
       "      <td>...</td>\n",
       "      <td>75372</td>\n",
       "      <td>0.0-12.0</td>\n",
       "      <td>3097-6a59060a-56cb-47ff-be07-6373f0117708</td>\n",
       "      <td>iter-0</td>\n",
       "      <td>None</td>\n",
       "      <td>thomas_m2s</td>\n",
       "      <td>shapenet13.v3</td>\n",
       "      <td>62fabc4d35041e590db047f7</td>\n",
       "      <td>62fab2f9ed32b93708282a00</td>\n",
       "      <td>60d101464180f5f5cd211e77</td>\n",
       "    </tr>\n",
       "    <tr>\n",
       "      <th>3</th>\n",
       "      <td>62fabca261d5f4ebb6753b2e</td>\n",
       "      <td>https://thomas-m2s-shapenet13-v3.s3.amazonaws....</td>\n",
       "      <td>https://thomas-m2s-shapenet13-v3.s3.amazonaws....</td>\n",
       "      <td>https://thomas-m2s-shapenet13-v3.s3.amazonaws....</td>\n",
       "      <td>875</td>\n",
       "      <td>3.0</td>\n",
       "      <td>https://thomas-m2s-shapenet13-v3.s3.amazonaws....</td>\n",
       "      <td>1</td>\n",
       "      <td>True</td>\n",
       "      <td>1.0</td>\n",
       "      <td>...</td>\n",
       "      <td>77249</td>\n",
       "      <td>0.0-13.0</td>\n",
       "      <td>3097-6a59060a-56cb-47ff-be07-6373f0117708</td>\n",
       "      <td>iter-0</td>\n",
       "      <td>None</td>\n",
       "      <td>thomas_m2s</td>\n",
       "      <td>shapenet13.v3</td>\n",
       "      <td>62fabc4d35041e590db047f7</td>\n",
       "      <td>62fab2f9ed32b93708282a00</td>\n",
       "      <td>60d101464180f5f5cd211e77</td>\n",
       "    </tr>\n",
       "    <tr>\n",
       "      <th>4</th>\n",
       "      <td>62fabca461d5f4ebb6753b2f</td>\n",
       "      <td>https://thomas-m2s-shapenet13-v3.s3.amazonaws....</td>\n",
       "      <td>https://thomas-m2s-shapenet13-v3.s3.amazonaws....</td>\n",
       "      <td>https://thomas-m2s-shapenet13-v3.s3.amazonaws....</td>\n",
       "      <td>739</td>\n",
       "      <td>4.0</td>\n",
       "      <td>https://thomas-m2s-shapenet13-v3.s3.amazonaws....</td>\n",
       "      <td>0</td>\n",
       "      <td>True</td>\n",
       "      <td>0.0</td>\n",
       "      <td>...</td>\n",
       "      <td>78990</td>\n",
       "      <td>0.0-14.0</td>\n",
       "      <td>3097-6a59060a-56cb-47ff-be07-6373f0117708</td>\n",
       "      <td>iter-0</td>\n",
       "      <td>None</td>\n",
       "      <td>thomas_m2s</td>\n",
       "      <td>shapenet13.v3</td>\n",
       "      <td>62fabc4d35041e590db047f7</td>\n",
       "      <td>62fab2f9ed32b93708282a00</td>\n",
       "      <td>60d101464180f5f5cd211e77</td>\n",
       "    </tr>\n",
       "  </tbody>\n",
       "</table>\n",
       "<p>5 rows × 23 columns</p>\n",
       "</div>"
      ],
      "text/plain": [
       "                        _id  \\\n",
       "0  62fabc9c61d5f4ebb6753b2a   \n",
       "1  62fabc9e61d5f4ebb6753b2c   \n",
       "2  62fabca061d5f4ebb6753b2d   \n",
       "3  62fabca261d5f4ebb6753b2e   \n",
       "4  62fabca461d5f4ebb6753b2f   \n",
       "\n",
       "                                          img_sample  \\\n",
       "0  https://thomas-m2s-shapenet13-v3.s3.amazonaws....   \n",
       "1  https://thomas-m2s-shapenet13-v3.s3.amazonaws....   \n",
       "2  https://thomas-m2s-shapenet13-v3.s3.amazonaws....   \n",
       "3  https://thomas-m2s-shapenet13-v3.s3.amazonaws....   \n",
       "4  https://thomas-m2s-shapenet13-v3.s3.amazonaws....   \n",
       "\n",
       "                                          img_target  \\\n",
       "0  https://thomas-m2s-shapenet13-v3.s3.amazonaws....   \n",
       "1  https://thomas-m2s-shapenet13-v3.s3.amazonaws....   \n",
       "2  https://thomas-m2s-shapenet13-v3.s3.amazonaws....   \n",
       "3  https://thomas-m2s-shapenet13-v3.s3.amazonaws....   \n",
       "4  https://thomas-m2s-shapenet13-v3.s3.amazonaws....   \n",
       "\n",
       "                                            img_lure   rt  index  \\\n",
       "0  https://thomas-m2s-shapenet13-v3.s3.amazonaws....  968    0.0   \n",
       "1  https://thomas-m2s-shapenet13-v3.s3.amazonaws....  816    1.0   \n",
       "2  https://thomas-m2s-shapenet13-v3.s3.amazonaws....  907    2.0   \n",
       "3  https://thomas-m2s-shapenet13-v3.s3.amazonaws....  875    3.0   \n",
       "4  https://thomas-m2s-shapenet13-v3.s3.amazonaws....  739    4.0   \n",
       "\n",
       "                                            stimulus response correct  \\\n",
       "0  https://thomas-m2s-shapenet13-v3.s3.amazonaws....        1    True   \n",
       "1  https://thomas-m2s-shapenet13-v3.s3.amazonaws....        0    True   \n",
       "2  https://thomas-m2s-shapenet13-v3.s3.amazonaws....        0    True   \n",
       "3  https://thomas-m2s-shapenet13-v3.s3.amazonaws....        1    True   \n",
       "4  https://thomas-m2s-shapenet13-v3.s3.amazonaws....        0    True   \n",
       "\n",
       "   correct_choice  ... time_elapsed internal_node_id  \\\n",
       "0             1.0  ...        71644         0.0-10.0   \n",
       "1             0.0  ...        73463         0.0-11.0   \n",
       "2             0.0  ...        75372         0.0-12.0   \n",
       "3             1.0  ...        77249         0.0-13.0   \n",
       "4             0.0  ...        78990         0.0-14.0   \n",
       "\n",
       "                                      gameid  iterationName inputid  \\\n",
       "0  3097-6a59060a-56cb-47ff-be07-6373f0117708         iter-0    None   \n",
       "1  3097-6a59060a-56cb-47ff-be07-6373f0117708         iter-0    None   \n",
       "2  3097-6a59060a-56cb-47ff-be07-6373f0117708         iter-0    None   \n",
       "3  3097-6a59060a-56cb-47ff-be07-6373f0117708         iter-0    None   \n",
       "4  3097-6a59060a-56cb-47ff-be07-6373f0117708         iter-0    None   \n",
       "\n",
       "     projName        expName                 sessionID  \\\n",
       "0  thomas_m2s  shapenet13.v3  62fabc4d35041e590db047f7   \n",
       "1  thomas_m2s  shapenet13.v3  62fabc4d35041e590db047f7   \n",
       "2  thomas_m2s  shapenet13.v3  62fabc4d35041e590db047f7   \n",
       "3  thomas_m2s  shapenet13.v3  62fabc4d35041e590db047f7   \n",
       "4  thomas_m2s  shapenet13.v3  62fabc4d35041e590db047f7   \n",
       "\n",
       "                    studyID                    userID  \n",
       "0  62fab2f9ed32b93708282a00  60d101464180f5f5cd211e77  \n",
       "1  62fab2f9ed32b93708282a00  60d101464180f5f5cd211e77  \n",
       "2  62fab2f9ed32b93708282a00  60d101464180f5f5cd211e77  \n",
       "3  62fab2f9ed32b93708282a00  60d101464180f5f5cd211e77  \n",
       "4  62fab2f9ed32b93708282a00  60d101464180f5f5cd211e77  \n",
       "\n",
       "[5 rows x 23 columns]"
      ]
     },
     "execution_count": 17,
     "metadata": {},
     "output_type": "execute_result"
    }
   ],
   "source": [
    "df.head()"
   ]
  },
  {
   "cell_type": "markdown",
   "metadata": {},
   "source": [
    "## Let's quickly look at the comments"
   ]
  },
  {
   "cell_type": "code",
   "execution_count": 18,
   "metadata": {},
   "outputs": [
    {
     "name": "stdout",
     "output_type": "stream",
     "text": [
      "['No comments, it was fun', 'no', \"There were a couple times that the images for the options didn't load, so I really had to guess, otherwise everything went smoothly.\", \"I don't know, where the random checks where. But there was one trial, when I missclicked and choose the obvious wrong answer, if that was one of the checks, that was my bad\", 'Nope', 'No, funny experiment', 'No, thanks. ']\n"
     ]
    }
   ],
   "source": [
    "all_comments = df[df[\"trial_type\"] == \"survey-text\"][\"response\"]\n",
    "comments = []\n",
    "for response in all_comments:\n",
    "    comm = response[\"Q0\"]\n",
    "    if len(comm) > 0:\n",
    "        comments.append(comm)\n",
    "print(comments)"
   ]
  },
  {
   "cell_type": "code",
   "execution_count": 19,
   "metadata": {},
   "outputs": [
    {
     "name": "stdout",
     "output_type": "stream",
     "text": [
      "<class 'pandas.core.frame.DataFrame'>\n",
      "Int64Index: 0 entries\n",
      "Data columns (total 23 columns):\n",
      " #   Column            Non-Null Count  Dtype  \n",
      "---  ------            --------------  -----  \n",
      " 0   _id               0 non-null      object \n",
      " 1   img_sample        0 non-null      object \n",
      " 2   img_target        0 non-null      object \n",
      " 3   img_lure          0 non-null      object \n",
      " 4   rt                0 non-null      int64  \n",
      " 5   index             0 non-null      float64\n",
      " 6   stimulus          0 non-null      object \n",
      " 7   response          0 non-null      object \n",
      " 8   correct           0 non-null      object \n",
      " 9   correct_choice    0 non-null      float64\n",
      " 10  choices           0 non-null      object \n",
      " 11  trial_type        0 non-null      object \n",
      " 12  trial_index       0 non-null      int64  \n",
      " 13  time_elapsed      0 non-null      int64  \n",
      " 14  internal_node_id  0 non-null      object \n",
      " 15  gameid            0 non-null      object \n",
      " 16  iterationName     0 non-null      object \n",
      " 17  inputid           0 non-null      object \n",
      " 18  projName          0 non-null      object \n",
      " 19  expName           0 non-null      object \n",
      " 20  sessionID         0 non-null      object \n",
      " 21  studyID           0 non-null      object \n",
      " 22  userID            0 non-null      object \n",
      "dtypes: float64(2), int64(3), object(18)\n",
      "memory usage: 0.0+ bytes\n"
     ]
    }
   ],
   "source": [
    "df.drop(df[df[\"trial_type\"] != \"plugin-2afc-task\"].index, inplace=True)\n",
    "df.info()"
   ]
  }
 ],
 "metadata": {
  "kernelspec": {
   "display_name": "Python 3 (ipykernel)",
   "language": "python",
   "name": "python3"
  },
  "language_info": {
   "codemirror_mode": {
    "name": "ipython",
    "version": 3
   },
   "file_extension": ".py",
   "mimetype": "text/x-python",
   "name": "python",
   "nbconvert_exporter": "python",
   "pygments_lexer": "ipython3",
   "version": "3.9.12"
  }
 },
 "nbformat": 4,
 "nbformat_minor": 4
}
